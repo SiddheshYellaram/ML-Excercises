{
 "cells": [
  {
   "cell_type": "markdown",
   "id": "7a0ba548-c9fb-45e9-aadc-c34120a96f03",
   "metadata": {},
   "source": [
    "# List Comprehensions and Nested Loops"
   ]
  },
  {
   "cell_type": "code",
   "execution_count": 97,
   "id": "16123628-08cf-44f5-bf2e-7178c4d93412",
   "metadata": {},
   "outputs": [
    {
     "name": "stdout",
     "output_type": "stream",
     "text": [
      "Even Nos are : [2, 4, 6, 8, 10, 12, 14, 16, 18, 20, 22, 24, 26, 28, 30, 32, 34, 36, 38, 40, 42, 44, 46, 48, 50, 52, 54, 56, 58, 60, 62, 64, 66, 68, 70, 72, 74, 76, 78, 80, 82, 84, 86, 88, 90, 92, 94, 96, 98, 100]\n",
      "Multiplication for 1 to 5 tables is: [[1, 2, 3, 4, 5, 6, 7, 8, 9, 10], [2, 4, 6, 8, 10, 12, 14, 16, 18, 20], [3, 6, 9, 12, 15, 18, 21, 24, 27, 30], [4, 8, 12, 16, 20, 24, 28, 32, 36, 40], [5, 10, 15, 20, 25, 30, 35, 40, 45, 50]]\n"
     ]
    }
   ],
   "source": [
    "# Write a Python program that:\n",
    "# - Uses a list comprehension to create a list of all even numbers from 1 to 100.\n",
    "# - Uses a list comprehension with a nested loop to create a multiplication table (i.e., a list of lists) for\n",
    "# the numbers 1 to 5.\n",
    "# - Print both the even numbers list and the multiplication table.\n",
    "\n",
    "even_numbers = [n for n in range(1,101) if n % 2 == 0]\n",
    "print(f\"Even Nos are : {even_numbers}\")\n",
    "\n",
    "multiplication_numbers = [[num * i for num in range(1,11)] for i in range(1, 6)]\n",
    "print(f\"Multiplication for 1 to 5 tables is: {multiplication_numbers}\")"
   ]
  },
  {
   "cell_type": "markdown",
   "id": "819427d9-dca6-4c7b-bf23-49c625455fff",
   "metadata": {},
   "source": [
    "# Classes and Inheritance"
   ]
  },
  {
   "cell_type": "code",
   "execution_count": 29,
   "id": "1c776a92-e0da-4fdb-8b53-b4d211cdb141",
   "metadata": {},
   "outputs": [
    {
     "name": "stdout",
     "output_type": "stream",
     "text": [
      "Hello Sid and your age is 24\n",
      "Hello Sid and your age is 24 and empoyee id is 101\n"
     ]
    }
   ],
   "source": [
    "# - Defines a class Person with attributes for name and age, and a method greet() that prints a\n",
    "# greeting with the person's name.\n",
    "# - Defines a subclass Employee that inherits from Person, adds an additional attribute employee_id,\n",
    "# and overrides the greet() method to include the employee ID in the greeting.\n",
    "# - Create objects of both Person and Employee and call their respective greet() methods.\n",
    "\n",
    "class Person:\n",
    "    def __init__(self, name, age):\n",
    "        self.name = name\n",
    "        self.age = age\n",
    "\n",
    "    def greet(self):\n",
    "        print(f\"Hello {self.name} and your age is {self.age}\")\n",
    "\n",
    "user = Person(\"Sid\",24)\n",
    "user.greet()\n",
    "\n",
    "class Employee(Person):\n",
    "    def __init__(self, name, age, employee_id):\n",
    "        self.name = name\n",
    "        self.age = age\n",
    "        self.employee_id = employee_id\n",
    "\n",
    "    def greet(self):\n",
    "        print(f\"Hello {self.name} and your age is {self.age} and empoyee id is {self.employee_id}\")\n",
    "\n",
    "employee = Employee(\"Sid\",24, 101)\n",
    "employee.greet()"
   ]
  },
  {
   "cell_type": "markdown",
   "id": "a572a16e-5590-4e24-b0ad-d3ce59d970d2",
   "metadata": {},
   "source": [
    "# Generators"
   ]
  },
  {
   "cell_type": "code",
   "execution_count": 41,
   "id": "7d7f9c6c-e6e0-4bab-92f6-47efb6598a5c",
   "metadata": {},
   "outputs": [
    {
     "name": "stdout",
     "output_type": "stream",
     "text": [
      "Fibonacci series for 20 nos : \n",
      "1\n",
      "1\n",
      "2\n",
      "3\n",
      "5\n",
      "8\n",
      "13\n",
      "21\n",
      "34\n",
      "55\n",
      "89\n",
      "144\n",
      "233\n",
      "377\n",
      "610\n",
      "987\n",
      "1597\n",
      "2584\n",
      "4181\n",
      "6765\n",
      "Fibonacci generator for 10 nos : \n",
      "1\n",
      "1\n",
      "2\n",
      "3\n",
      "5\n",
      "8\n",
      "13\n",
      "21\n",
      "34\n",
      "55\n"
     ]
    }
   ],
   "source": [
    "# Write a Python program that:\n",
    "# - Implements a generator fibonacci_generator(n) that generates the first n Fibonacci numbers.\n",
    "# - Use the generator to print the first 10 Fibonacci numbers.\n",
    "# - Explain the benefits of using generators over lists for large data.\n",
    "\n",
    "def fibonacci_generator(n):\n",
    "    first,second = 0,1\n",
    "    for i in range(n):\n",
    "        first, second = second, first + second\n",
    "        yield first\n",
    "\n",
    "print(\"Fibonacci series for 20 nos : \")\n",
    "for i in fibonacci_generator(20):\n",
    "    print(i)\n",
    "\n",
    "\n",
    "print(\"Fibonacci generator for 10 nos : \")\n",
    "fibonacci_generator = (n for n in fibonacci_generator(10))\n",
    "for i in fibonacci_generator:\n",
    "    print(i)"
   ]
  },
  {
   "cell_type": "markdown",
   "id": "0cc0dd9a-3268-4c96-8433-cf2b6f39a2d8",
   "metadata": {},
   "source": [
    "# Exception Handling with Custom Exceptions"
   ]
  },
  {
   "cell_type": "code",
   "execution_count": 63,
   "id": "5fee4748-442d-45a3-a443-81012fa56e95",
   "metadata": {},
   "outputs": [
    {
     "name": "stdin",
     "output_type": "stream",
     "text": [
      "Enter your age:  -20\n"
     ]
    },
    {
     "name": "stdout",
     "output_type": "stream",
     "text": [
      "caught Exception: Age cannot be less than 0 or greater than 150\n"
     ]
    }
   ],
   "source": [
    "# Write a Python program that:\n",
    "# - Defines a custom exception class InvalidAgeError that is raised when an invalid age (less than 0 or\n",
    "# greater than 150) is entered.\n",
    "# - Write a function validate_age() that takes an age as input, raises InvalidAgeError for invalid ages,\n",
    "# and prints a message if the age is valid.\n",
    "# - Handle the exception with a try-except block and test with both valid and invalid age inputs.\n",
    "\n",
    "class InvalidAgeError(Exception):\n",
    "    def __init__(self, message):\n",
    "        self.message = message\n",
    "\n",
    "try:\n",
    "    age = int(input(\"Enter your age: \"))\n",
    "    if age < 0 or age > 150:\n",
    "        raise InvalidAgeError(\"Age cannot be less than 0 or greater than 150\")\n",
    "    else:\n",
    "        print(f\"Your age is {age}\")\n",
    "except InvalidAgeError as e:\n",
    "    print(f\"caught Exception: {e}\")"
   ]
  },
  {
   "cell_type": "markdown",
   "id": "9974a010-1f45-44b5-8390-c982733906a2",
   "metadata": {},
   "source": [
    "# Regular Expressions"
   ]
  },
  {
   "cell_type": "code",
   "execution_count": 66,
   "id": "71348d8d-ff59-41fc-8782-7c99a8b669d5",
   "metadata": {},
   "outputs": [
    {
     "name": "stdin",
     "output_type": "stream",
     "text": [
      "Enter a email:  abc@gmail.com\n"
     ]
    },
    {
     "name": "stdout",
     "output_type": "stream",
     "text": [
      "abc@gmail.com is valid\n"
     ]
    }
   ],
   "source": [
    "# Write a Python program that:\n",
    "# - Prompts the user to input an email address.\n",
    "# - Uses a regular expression to validate if the entered email address follows the format:\n",
    "# [username]@[domain].[extension] (e.g., user@example.com).\n",
    "# - Print a message indicating whether the email is valid or not.\n",
    "# - Use the re module to implement the regular expression.\n",
    "\n",
    "import re\n",
    "\n",
    "email_addr = input(\"Enter a email: \")\n",
    "validEmail = re.search(\"[a-z]@[a-z].[a-z]\",email_addr)\n",
    "\n",
    "if validEmail:\n",
    "    print(f\"{email_addr} is valid\")\n",
    "else:\n",
    "    print(f\"{email_addr} is invalid\")"
   ]
  },
  {
   "cell_type": "markdown",
   "id": "fb2e9fab-8397-41a3-b24e-3067020ec5cd",
   "metadata": {},
   "source": [
    "# Dictionary"
   ]
  },
  {
   "cell_type": "code",
   "execution_count": 96,
   "id": "d3b26fd4-b908-49e0-aecc-3f2b5c07e731",
   "metadata": {},
   "outputs": [
    {
     "name": "stdout",
     "output_type": "stream",
     "text": [
      "Dictionary:  {'book1': {'name': 'Harry Potter Prisoner Of Askaban', 'author': 'J.K. Rowling', 'published on': 1999}, 'book2': {'name': 'Da Vinci Code', 'author': 'Dan Brown', 'published on': 2004}}\n",
      "Json:  {'book1': {'name': 'Harry Potter Prisoner Of Askaban', 'author': 'J.K. Rowling', 'published on': 1999}, 'book2': {'name': 'Da Vinci Code', 'author': 'Dan Brown', 'published on': 2004}}\n"
     ]
    }
   ],
   "source": [
    "# Write a Python program that:\n",
    "# - Creates a dictionary with details about a book, including title, author, and year published.\n",
    "# - Converts the dictionary to a JSON string using the json module and writes it to a file named\n",
    "# book.json.\n",
    "# - Reads the JSON string back from the file and converts it back to a Python dictionary.\n",
    "# - Print both the JSON string and the final dictionary.\n",
    "\n",
    "import json\n",
    "\n",
    "books_collections = {\n",
    "    \"book1\": {\n",
    "        \"name\" : \"Harry Potter Prisoner Of Askaban\",\n",
    "        \"author\": \"J.K. Rowling\",\n",
    "        \"published on\": 1999\n",
    "    },\n",
    "    \"book2\":{\n",
    "        \"name\" : \"Da Vinci Code\",\n",
    "        \"author\": \"Dan Brown\",\n",
    "        \"published on\": 2004\n",
    "    }\n",
    "}\n",
    "\n",
    "jsonFile = json.dumps(books_collections, sort_keys = True)\n",
    "\n",
    "file_name = 'Docs.json'\n",
    "\n",
    "# writing to file\n",
    "# jsonWriter = open(file_name,'w')\n",
    "# json.dump(books_collections, jsonWriter)\n",
    "\n",
    "# reading from file\n",
    "jsonReader = open(file_name,'r')\n",
    "json_object = json.load(jsonReader)\n",
    "\n",
    "print(\"Dictionary: \",books_collections)\n",
    "print(\"Json: \",json_object)"
   ]
  }
 ],
 "metadata": {
  "kernelspec": {
   "display_name": "Python 3 (ipykernel)",
   "language": "python",
   "name": "python3"
  },
  "language_info": {
   "codemirror_mode": {
    "name": "ipython",
    "version": 3
   },
   "file_extension": ".py",
   "mimetype": "text/x-python",
   "name": "python",
   "nbconvert_exporter": "python",
   "pygments_lexer": "ipython3",
   "version": "3.12.7"
  }
 },
 "nbformat": 4,
 "nbformat_minor": 5
}
