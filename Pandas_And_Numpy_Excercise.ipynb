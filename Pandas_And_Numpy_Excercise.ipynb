{
 "cells": [
  {
   "cell_type": "markdown",
   "id": "c619bfbe-d3cb-4105-a38b-d0028c7777b1",
   "metadata": {},
   "source": [
    "NumPy Exercises\n",
    "1. Create and Manipulate Arrays\n",
    "Create a 1D NumPy array of integers from 10 to 50.\n",
    "Convert it into a 2D array of shape (5, 2).\n",
    "Find the mean, sum, and standard deviation of the array.\n",
    "2. Indexing and Slicing\n",
    "Create a 5x5 array of random integers between 1 and 100.\n",
    "Extract all values greater than 50.\n",
    "Replace all values less than 30 with -1.\n",
    "Extract the third row and second column.\n",
    "3. Mathematical Operations\n",
    "Create two (3x3) matrices with random values.\n",
    "Perform matrix addition, subtraction, multiplication, and dot product.\n",
    "Find the inverse of one matrix.\n",
    "4. Filtering\n",
    "Create an array of 20 random numbers between 1 and 100.\n",
    "Find all even numbers and replace them with 0.\n",
    "Normalize the array so that all values are between 0 and 1."
   ]
  },
  {
   "cell_type": "markdown",
   "id": "9c7be604-5935-411d-9040-b270433ea8e8",
   "metadata": {},
   "source": [
    "# Task 1"
   ]
  },
  {
   "cell_type": "code",
   "execution_count": 11,
   "id": "afbcf47a-9f94-4416-a6c0-9362fe479f4a",
   "metadata": {},
   "outputs": [
    {
     "name": "stdout",
     "output_type": "stream",
     "text": [
      "[[10 11]\n",
      " [20 25]\n",
      " [30 40]\n",
      " [45 47]\n",
      " [48 50]]\n",
      "32.6\n",
      "35.0\n",
      "326\n",
      "14.6846859006245\n"
     ]
    }
   ],
   "source": [
    "import numpy as np\n",
    "\n",
    "arr1 = np.array([10,11,20,25,30,40,45,47,48,50])\n",
    "\n",
    "newarr1 = np.reshape(arr1, (5,2))\n",
    "print(newarr1)\n",
    "\n",
    "print(np.mean(newarr1))\n",
    "print(np.median(newarr1))\n",
    "print(np.sum(newarr1))\n",
    "print(np.std(newarr1))"
   ]
  },
  {
   "cell_type": "markdown",
   "id": "894a6faa-fb89-4c9f-82ca-84d81d019d92",
   "metadata": {},
   "source": [
    "# Task 2"
   ]
  },
  {
   "cell_type": "code",
   "execution_count": 26,
   "id": "14e1c86b-3fff-4990-9836-b9538f09bb13",
   "metadata": {},
   "outputs": [
    {
     "name": "stdout",
     "output_type": "stream",
     "text": [
      "[[73 30 56 18 68]\n",
      " [10 44 23 55 41]\n",
      " [49 32 98  6 62]\n",
      " [27 15 37  7 22]\n",
      " [78 58 69 54 99]]\n"
     ]
    },
    {
     "data": {
      "text/plain": [
       "37"
      ]
     },
     "execution_count": 26,
     "metadata": {},
     "output_type": "execute_result"
    }
   ],
   "source": [
    "rand_arr = np.random.randint(100, size=(5,5))\n",
    "print(rand_arr)\n",
    "\n",
    "rand_arr.shape\n",
    "\n",
    "new_rand_arr = rand_arr[rand_arr > 50]\n",
    "\n",
    "rand_arr[rand_arr < 30] = -1\n",
    "rand_arr\n",
    "\n",
    "rand_arr[3][2]"
   ]
  },
  {
   "cell_type": "markdown",
   "id": "d4974033-36c7-4dbd-a671-29de15bf4cb3",
   "metadata": {},
   "source": [
    "# Task 3"
   ]
  },
  {
   "cell_type": "code",
   "execution_count": 40,
   "id": "2fcce105-2197-43c4-9d64-be5e504c69b6",
   "metadata": {},
   "outputs": [
    {
     "name": "stdout",
     "output_type": "stream",
     "text": [
      "[[5 7 8]\n",
      " [8 7 9]\n",
      " [3 0 6]]\n",
      "[[2 4 4]\n",
      " [1 3 3]\n",
      " [0 5 8]]\n",
      "Add Matrix: \n",
      " [[ 7 11 12]\n",
      " [ 9 10 12]\n",
      " [ 3  5 14]]\n",
      "Sub Matrix: \n",
      " [[ 3  3  4]\n",
      " [ 7  4  6]\n",
      " [ 3 -5 -2]]\n",
      "Mul Matrix: \n",
      " [[10 28 32]\n",
      " [ 8 21 27]\n",
      " [ 0  0 48]]\n",
      "Div Matrix: \n",
      " [[2.5        1.75       2.        ]\n",
      " [8.         2.33333333 3.        ]\n",
      " [       inf 0.         0.75      ]]\n",
      "Dot Matrix: \n",
      " [[ 17  81 105]\n",
      " [ 23  98 125]\n",
      " [  6  42  60]]\n",
      "Inverse Matrix: \n",
      " [[-0.4         0.4        -0.06666667]\n",
      " [ 0.2        -0.05714286 -0.18095238]\n",
      " [ 0.2        -0.2         0.2       ]]\n"
     ]
    },
    {
     "name": "stderr",
     "output_type": "stream",
     "text": [
      "C:\\Users\\Admin\\AppData\\Local\\Temp\\ipykernel_22908\\3624496841.py:10: RuntimeWarning: divide by zero encountered in divide\n",
      "  print(\"Div Matrix: \\n\", np.divide(arr2, arr3))\n"
     ]
    }
   ],
   "source": [
    "arr2 = np.random.randint(10, size=(3,3))\n",
    "print(arr2)\n",
    "\n",
    "arr3 = np.random.randint(10, size=(3,3))\n",
    "print(arr3)\n",
    "\n",
    "print(\"Add Matrix: \\n\", np.add(arr2, arr3))\n",
    "print(\"Sub Matrix: \\n\", np.subtract(arr2, arr3))\n",
    "print(\"Mul Matrix: \\n\", np.multiply(arr2, arr3))\n",
    "print(\"Div Matrix: \\n\", np.divide(arr2, arr3))\n",
    "print(\"Dot Matrix: \\n\", np.dot(arr2, arr3))\n",
    "print(\"Inverse Matrix: \\n\", np.linalg.inv(arr2))"
   ]
  },
  {
   "cell_type": "markdown",
   "id": "50382794-facc-4bec-ab3f-a389b08c50ce",
   "metadata": {},
   "source": [
    "# Task 4"
   ]
  },
  {
   "cell_type": "code",
   "execution_count": 48,
   "id": "9aadb320-9798-48c9-b033-6a52da40b52e",
   "metadata": {},
   "outputs": [
    {
     "name": "stdout",
     "output_type": "stream",
     "text": [
      "[ 8 32  0 16  0 65 28 42 79 72 55 23 95 97 94 22 78 80 22 98]\n"
     ]
    },
    {
     "data": {
      "text/plain": [
       "array([ 0,  0,  0,  0,  0, 65,  0,  0, 79,  0, 55, 23, 95, 97,  0,  0,  0,\n",
       "        0,  0,  0])"
      ]
     },
     "execution_count": 48,
     "metadata": {},
     "output_type": "execute_result"
    }
   ],
   "source": [
    "arr4 = np.random.randint(100, size=(20))\n",
    "print(arr4)\n",
    "\n",
    "#filtering no by replacing it with 0\n",
    "arr4[arr4 % 2 == 0] = 0\n",
    "arr4"
   ]
  },
  {
   "cell_type": "markdown",
   "id": "b209a2fd-2741-48b4-913a-91411d1cb8cb",
   "metadata": {},
   "source": [
    "Pandas Exercises\n",
    "1. Create and Explore a DataFrame\n",
    "Create a DataFrame from a dictionary with columns: Name, Age, Salary, Department.\n",
    "Add a new column \"Bonus\" that is 10% of the salary.\n",
    "Find the average age and salary.\n",
    "2. Handling Missing Data\n",
    "Create a DataFrame with some NaN (missing) values.\n",
    "Fill missing values using mean or median.\n",
    "Drop rows where more than 2 values are missing.\n",
    "3. Data Selection and Filtering\n",
    "Load the \"Titanic dataset\" (sns.load_dataset('titanic')).\n",
    "Select all passengers above 30 years old.\n",
    "Find the number of survivors by gender.\n",
    "Find the oldest passenger and their class.\n",
    "4. Grouping and Aggregation\n",
    "Create a DataFrame with Employee, Department, and Salary.\n",
    "Group by Department and find the average salary.\n",
    "5. Data Merging and Joining\n",
    "Create two DataFrames:\n",
    "One with Employee_ID and Name.\n",
    "Another with Employee_ID and Salary.\n",
    "Merge them based on Employee_ID.\n",
    "Add a new column Tax as 15% of salary.\n",
    "6. Time Series Data\n",
    "Create a date range of the last 30 days.\n",
    "Generate a random dataset with a \"Sales\" column.\n",
    "Find the total sales for the last 7 days.\n",
    "Plot the sales trend over time."
   ]
  },
  {
   "cell_type": "markdown",
   "id": "c65c4d86-a86f-48c0-a57b-201ad77580b9",
   "metadata": {},
   "source": [
    "# Task 1"
   ]
  },
  {
   "cell_type": "code",
   "execution_count": 63,
   "id": "2765bf11-810a-474b-bf0e-600eb813caed",
   "metadata": {},
   "outputs": [
    {
     "data": {
      "text/plain": [
       "25.0"
      ]
     },
     "execution_count": 63,
     "metadata": {},
     "output_type": "execute_result"
    }
   ],
   "source": [
    "import pandas as pd\n",
    "\n",
    "data = {\n",
    "    \"Name\": [\"Abby\", \"Ellie\", \"Joel\"],\n",
    "    \"Age\": [20,21,34],\n",
    "    \"Salary\": [55000, 30000, 40000],\n",
    "    \"Department\": [\"IT\", \"HR\", \"QA\"]\n",
    "}\n",
    "\n",
    "df = pd.DataFrame(data)\n",
    "df\n",
    "\n",
    "df[\"Bonus\"] = df[\"Salary\"] / 10\n",
    "df\n",
    "\n",
    "avg_sal = df[\"Salary\"].mean()\n",
    "avg_sal\n",
    "\n",
    "avg_age = df[\"Age\"].mean()\n",
    "avg_age"
   ]
  },
  {
   "cell_type": "markdown",
   "id": "ddab2a41-d0c6-4a9b-83a8-989b99bd5dce",
   "metadata": {},
   "source": [
    "# Task 2"
   ]
  },
  {
   "cell_type": "code",
   "execution_count": 74,
   "id": "bde5e0aa-cd71-41ad-91d5-608a6c511097",
   "metadata": {},
   "outputs": [
    {
     "name": "stderr",
     "output_type": "stream",
     "text": [
      "C:\\Users\\Admin\\AppData\\Local\\Temp\\ipykernel_22908\\4173336533.py:17: FutureWarning: The behavior of DataFrame concatenation with empty or all-NA entries is deprecated. In a future version, this will no longer exclude empty or all-NA columns when determining the result dtypes. To retain the old behavior, exclude the relevant entries before the concat operation.\n",
      "  df2.loc[4] = [\"Tess\", None, None, None]\n"
     ]
    },
    {
     "data": {
      "text/html": [
       "<div>\n",
       "<style scoped>\n",
       "    .dataframe tbody tr th:only-of-type {\n",
       "        vertical-align: middle;\n",
       "    }\n",
       "\n",
       "    .dataframe tbody tr th {\n",
       "        vertical-align: top;\n",
       "    }\n",
       "\n",
       "    .dataframe thead th {\n",
       "        text-align: right;\n",
       "    }\n",
       "</style>\n",
       "<table border=\"1\" class=\"dataframe\">\n",
       "  <thead>\n",
       "    <tr style=\"text-align: right;\">\n",
       "      <th></th>\n",
       "      <th>Name</th>\n",
       "      <th>Age</th>\n",
       "      <th>Salary</th>\n",
       "      <th>Department</th>\n",
       "    </tr>\n",
       "  </thead>\n",
       "  <tbody>\n",
       "    <tr>\n",
       "      <th>0</th>\n",
       "      <td>Abby</td>\n",
       "      <td>20.0</td>\n",
       "      <td>27.0</td>\n",
       "      <td>IT</td>\n",
       "    </tr>\n",
       "    <tr>\n",
       "      <th>1</th>\n",
       "      <td>Ellie</td>\n",
       "      <td>27.0</td>\n",
       "      <td>30000.0</td>\n",
       "      <td>HR</td>\n",
       "    </tr>\n",
       "    <tr>\n",
       "      <th>2</th>\n",
       "      <td>Joel</td>\n",
       "      <td>34.0</td>\n",
       "      <td>27.0</td>\n",
       "      <td>QA</td>\n",
       "    </tr>\n",
       "  </tbody>\n",
       "</table>\n",
       "</div>"
      ],
      "text/plain": [
       "    Name   Age   Salary Department\n",
       "0   Abby  20.0     27.0         IT\n",
       "1  Ellie  27.0  30000.0         HR\n",
       "2   Joel  34.0     27.0         QA"
      ]
     },
     "execution_count": 74,
     "metadata": {},
     "output_type": "execute_result"
    }
   ],
   "source": [
    "data2 = {\n",
    "    \"Name\": [\"Abby\", \"Ellie\", \"Joel\"],\n",
    "    \"Age\": [20,None,34],\n",
    "    \"Salary\": [None, 30000, None],\n",
    "    \"Department\": [\"IT\", \"HR\", \"QA\"]\n",
    "}\n",
    "\n",
    "df2 = pd.DataFrame(data2)\n",
    "df2\n",
    "\n",
    "df2.fillna(df2[\"Age\"].mean(), inplace=True)\n",
    "df2\n",
    "\n",
    "df2.fillna(df2[\"Salary\"].median(), inplace=True)\n",
    "df2\n",
    "\n",
    "df2.loc[4] = [\"Tess\", None, None, None]\n",
    "df2\n",
    "\n",
    "df2.drop(index=4, inplace=True)\n",
    "df2"
   ]
  },
  {
   "cell_type": "markdown",
   "id": "59ef53ab-093e-48e0-a9a6-d3b8adfb30e2",
   "metadata": {},
   "source": [
    "# Task 3"
   ]
  },
  {
   "cell_type": "code",
   "execution_count": 88,
   "id": "422d656c-ebb0-4f21-9851-3e09a9ad2983",
   "metadata": {},
   "outputs": [
    {
     "data": {
      "text/html": [
       "<div>\n",
       "<style scoped>\n",
       "    .dataframe tbody tr th:only-of-type {\n",
       "        vertical-align: middle;\n",
       "    }\n",
       "\n",
       "    .dataframe tbody tr th {\n",
       "        vertical-align: top;\n",
       "    }\n",
       "\n",
       "    .dataframe thead th {\n",
       "        text-align: right;\n",
       "    }\n",
       "</style>\n",
       "<table border=\"1\" class=\"dataframe\">\n",
       "  <thead>\n",
       "    <tr style=\"text-align: right;\">\n",
       "      <th></th>\n",
       "      <th>survived</th>\n",
       "      <th>pclass</th>\n",
       "      <th>sex</th>\n",
       "      <th>age</th>\n",
       "      <th>sibsp</th>\n",
       "      <th>parch</th>\n",
       "      <th>fare</th>\n",
       "      <th>embarked</th>\n",
       "      <th>class</th>\n",
       "      <th>who</th>\n",
       "      <th>adult_male</th>\n",
       "      <th>deck</th>\n",
       "      <th>embark_town</th>\n",
       "      <th>alive</th>\n",
       "      <th>alone</th>\n",
       "    </tr>\n",
       "  </thead>\n",
       "  <tbody>\n",
       "    <tr>\n",
       "      <th>630</th>\n",
       "      <td>1</td>\n",
       "      <td>1</td>\n",
       "      <td>male</td>\n",
       "      <td>80.0</td>\n",
       "      <td>0</td>\n",
       "      <td>0</td>\n",
       "      <td>30.0</td>\n",
       "      <td>S</td>\n",
       "      <td>First</td>\n",
       "      <td>man</td>\n",
       "      <td>True</td>\n",
       "      <td>A</td>\n",
       "      <td>Southampton</td>\n",
       "      <td>yes</td>\n",
       "      <td>True</td>\n",
       "    </tr>\n",
       "  </tbody>\n",
       "</table>\n",
       "</div>"
      ],
      "text/plain": [
       "     survived  pclass   sex   age  sibsp  parch  fare embarked  class  who  \\\n",
       "630         1       1  male  80.0      0      0  30.0        S  First  man   \n",
       "\n",
       "     adult_male deck  embark_town alive  alone  \n",
       "630        True    A  Southampton   yes   True  "
      ]
     },
     "execution_count": 88,
     "metadata": {},
     "output_type": "execute_result"
    }
   ],
   "source": [
    "import seaborn as sns\n",
    "\n",
    "df = sns.load_dataset('titanic')\n",
    "df\n",
    "\n",
    "df = df[df[\"age\"] > 30]\n",
    "df\n",
    "\n",
    "gender = df[df[\"sex\"] == \"male\"]\n",
    "gender\n",
    "\n",
    "oldest_pass = df[df[\"age\"] == df[\"age\"].max()]\n",
    "oldest_pass"
   ]
  },
  {
   "cell_type": "markdown",
   "id": "cd293dde-dbae-4740-b65d-247670ca00f2",
   "metadata": {},
   "source": [
    "# Task 4"
   ]
  },
  {
   "cell_type": "code",
   "execution_count": 104,
   "id": "580cee4b-e5f2-4114-8221-9653fdfcb888",
   "metadata": {},
   "outputs": [
    {
     "name": "stdout",
     "output_type": "stream",
     "text": [
      "Department\n",
      "HR    30000.0\n",
      "IT       27.0\n",
      "QA       27.0\n",
      "Name: Salary, dtype: float64\n"
     ]
    }
   ],
   "source": [
    "df2.fillna(df2[\"Age\"].mean(), inplace=True)\n",
    "df2\n",
    "\n",
    "new_ddf = df2.groupby('Department')['Salary'].mean()\n",
    "print(new_ddf)"
   ]
  },
  {
   "cell_type": "markdown",
   "id": "cd348fd3-dd02-4b7b-bb21-fb5a2aa54497",
   "metadata": {},
   "source": [
    "# Task 5"
   ]
  },
  {
   "cell_type": "code",
   "execution_count": 110,
   "id": "85622863-4580-48d8-876a-8eb6c9282163",
   "metadata": {},
   "outputs": [
    {
     "data": {
      "text/html": [
       "<div>\n",
       "<style scoped>\n",
       "    .dataframe tbody tr th:only-of-type {\n",
       "        vertical-align: middle;\n",
       "    }\n",
       "\n",
       "    .dataframe tbody tr th {\n",
       "        vertical-align: top;\n",
       "    }\n",
       "\n",
       "    .dataframe thead th {\n",
       "        text-align: right;\n",
       "    }\n",
       "</style>\n",
       "<table border=\"1\" class=\"dataframe\">\n",
       "  <thead>\n",
       "    <tr style=\"text-align: right;\">\n",
       "      <th></th>\n",
       "      <th>Emp_ID</th>\n",
       "      <th>Name</th>\n",
       "      <th>Emp_Sal</th>\n",
       "      <th>Tax</th>\n",
       "    </tr>\n",
       "  </thead>\n",
       "  <tbody>\n",
       "    <tr>\n",
       "      <th>0</th>\n",
       "      <td>1</td>\n",
       "      <td>Arun</td>\n",
       "      <td>20000</td>\n",
       "      <td>1333.333333</td>\n",
       "    </tr>\n",
       "    <tr>\n",
       "      <th>1</th>\n",
       "      <td>2</td>\n",
       "      <td>Varun</td>\n",
       "      <td>30000</td>\n",
       "      <td>2000.000000</td>\n",
       "    </tr>\n",
       "    <tr>\n",
       "      <th>2</th>\n",
       "      <td>3</td>\n",
       "      <td>Tarun</td>\n",
       "      <td>40000</td>\n",
       "      <td>2666.666667</td>\n",
       "    </tr>\n",
       "  </tbody>\n",
       "</table>\n",
       "</div>"
      ],
      "text/plain": [
       "   Emp_ID   Name  Emp_Sal          Tax\n",
       "0       1   Arun    20000  1333.333333\n",
       "1       2  Varun    30000  2000.000000\n",
       "2       3  Tarun    40000  2666.666667"
      ]
     },
     "execution_count": 110,
     "metadata": {},
     "output_type": "execute_result"
    }
   ],
   "source": [
    "d1 = pd.DataFrame({\"Emp_ID\": [1,2,3] , \"Name\": [\"Arun\", \"Varun\", \"Tarun\"]})\n",
    "d2 = pd.DataFrame({\"Emp_ID\": [1,2,3] , \"Emp_Sal\": [20000,30000,40000]})\n",
    "\n",
    "df_merge = pd.merge(d1, d2, on=\"Emp_ID\", how=\"inner\")\n",
    "df_merge\n",
    "\n",
    "df_merge[\"Tax\"] = df_merge[\"Emp_Sal\"] / 15\n",
    "df_merge"
   ]
  },
  {
   "cell_type": "markdown",
   "id": "0bfe0596-5835-4521-b4c4-1b3d946e51ab",
   "metadata": {},
   "source": [
    "# Task 6"
   ]
  },
  {
   "cell_type": "code",
   "execution_count": 114,
   "id": "0a022410-abe9-48fb-a40c-42285856506f",
   "metadata": {},
   "outputs": [
    {
     "data": {
      "text/plain": [
       "DatetimeIndex(['2025-01-15 15:51:11.219029', '2025-01-16 15:51:11.219029',\n",
       "               '2025-01-17 15:51:11.219029', '2025-01-18 15:51:11.219029',\n",
       "               '2025-01-19 15:51:11.219029', '2025-01-20 15:51:11.219029',\n",
       "               '2025-01-21 15:51:11.219029', '2025-01-22 15:51:11.219029',\n",
       "               '2025-01-23 15:51:11.219029', '2025-01-24 15:51:11.219029',\n",
       "               '2025-01-25 15:51:11.219029', '2025-01-26 15:51:11.219029',\n",
       "               '2025-01-27 15:51:11.219029', '2025-01-28 15:51:11.219029',\n",
       "               '2025-01-29 15:51:11.219029', '2025-01-30 15:51:11.219029',\n",
       "               '2025-01-31 15:51:11.219029', '2025-02-01 15:51:11.219029',\n",
       "               '2025-02-02 15:51:11.219029', '2025-02-03 15:51:11.219029',\n",
       "               '2025-02-04 15:51:11.219029', '2025-02-05 15:51:11.219029',\n",
       "               '2025-02-06 15:51:11.219029', '2025-02-07 15:51:11.219029',\n",
       "               '2025-02-08 15:51:11.219029', '2025-02-09 15:51:11.219029',\n",
       "               '2025-02-10 15:51:11.219029', '2025-02-11 15:51:11.219029',\n",
       "               '2025-02-12 15:51:11.219029', '2025-02-13 15:51:11.219029'],\n",
       "              dtype='datetime64[ns]', freq='D')"
      ]
     },
     "execution_count": 114,
     "metadata": {},
     "output_type": "execute_result"
    }
   ],
   "source": [
    "# Time Series Data Create a date range of the last 30 days. Generate a random dataset with a \"Sales\" column. Find the total sales for the last 7 days. Plot the sales trend over time.\n",
    "date_range = pd.date_range(end=pd.Timestamp.today(), periods=30)\n",
    "date_range"
   ]
  }
 ],
 "metadata": {
  "kernelspec": {
   "display_name": "Python 3 (ipykernel)",
   "language": "python",
   "name": "python3"
  },
  "language_info": {
   "codemirror_mode": {
    "name": "ipython",
    "version": 3
   },
   "file_extension": ".py",
   "mimetype": "text/x-python",
   "name": "python",
   "nbconvert_exporter": "python",
   "pygments_lexer": "ipython3",
   "version": "3.12.7"
  }
 },
 "nbformat": 4,
 "nbformat_minor": 5
}
