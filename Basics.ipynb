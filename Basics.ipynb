{
 "cells": [
  {
   "cell_type": "code",
   "execution_count": 1,
   "id": "11f76877-ff49-430f-9736-54567025b0a6",
   "metadata": {},
   "outputs": [
    {
     "data": {
      "text/plain": [
       "4"
      ]
     },
     "execution_count": 1,
     "metadata": {},
     "output_type": "execute_result"
    }
   ],
   "source": [
    "2+2 #basic maths"
   ]
  },
  {
   "cell_type": "code",
   "execution_count": 3,
   "id": "5876f08f-479e-4f2f-b827-407777a3b70c",
   "metadata": {},
   "outputs": [
    {
     "data": {
      "text/plain": [
       "-2.5"
      ]
     },
     "execution_count": 3,
     "metadata": {},
     "output_type": "execute_result"
    }
   ],
   "source": [
    "(30-5*8)/4 #Bodmas"
   ]
  },
  {
   "cell_type": "code",
   "execution_count": 7,
   "id": "e24b1043-ed7b-472d-bc43-337416709106",
   "metadata": {},
   "outputs": [
    {
     "data": {
      "text/plain": [
       "2.25"
      ]
     },
     "execution_count": 7,
     "metadata": {},
     "output_type": "execute_result"
    }
   ],
   "source": [
    "9 / 4  #division"
   ]
  },
  {
   "cell_type": "code",
   "execution_count": 6,
   "id": "0a7a35c1-1636-4b58-a716-c9f604adfcfc",
   "metadata": {},
   "outputs": [
    {
     "data": {
      "text/plain": [
       "2"
      ]
     },
     "execution_count": 6,
     "metadata": {},
     "output_type": "execute_result"
    }
   ],
   "source": [
    "9 // 4 #returns floor value"
   ]
  },
  {
   "cell_type": "markdown",
   "id": "790bbf6a-5a48-4935-933c-3cf2f3a46bff",
   "metadata": {},
   "source": [
    "# Using Esc notations"
   ]
  },
  {
   "cell_type": "code",
   "execution_count": 88,
   "id": "fc2d6547-222e-402c-8591-476181da913b",
   "metadata": {},
   "outputs": [
    {
     "name": "stdout",
     "output_type": "stream",
     "text": [
      "hello my name is p\t'Bot\n",
      "hello my name is p\n",
      "'Bot\n",
      "hello my name is p'Bot\n"
     ]
    }
   ],
   "source": [
    "name = \"hello my name is p\\t'Bot\" #using \\t for adding tab and also denoting escape character\n",
    "uName = \"hello my name is p\\n'Bot\" #using \\n for adding new line and also denoting escape character\n",
    "print(name)\n",
    "print(uName)\n",
    "\n",
    "botName = \"hello my name is p\\'Bot\" #using \\t for adding tab and also denoting escape character\n",
    "print(botName)"
   ]
  },
  {
   "cell_type": "markdown",
   "id": "2bf19402-13cc-4885-8ca7-a9680c8e05c4",
   "metadata": {},
   "source": [
    "# Concatenation and Operations"
   ]
  },
  {
   "cell_type": "code",
   "execution_count": null,
   "id": "740916d0-7d45-4499-a2df-a96e1052d4c5",
   "metadata": {},
   "outputs": [],
   "source": [
    "username = \"Desmond\"\n",
    "msg = \"Hello \"\n",
    "print(msg + username) #contatenation\n",
    "print(msg[0])\n",
    "print(username[-1]) # index start from 0 to length of string and python also have negative index starting from last character to first "
   ]
  },
  {
   "cell_type": "code",
   "execution_count": 25,
   "id": "aee86050-d24b-4f66-899b-300cca32399a",
   "metadata": {},
   "outputs": [
    {
     "name": "stdout",
     "output_type": "stream",
     "text": [
      "es\n",
      "Des\n",
      "on\n"
     ]
    }
   ],
   "source": [
    "print(username[1:3]) #slicing from 1st till 3rd position its value is not included\n",
    "print(username[:3]) #slicing till 3rd position\n",
    "print(username[-3:-1]) #slicing from 3rd till last position for negative index"
   ]
  },
  {
   "cell_type": "markdown",
   "id": "e35bba1b-1479-44fb-90b3-8bbc0a4428c5",
   "metadata": {},
   "source": [
    "# Lists and Inbuilt methods, Slicing"
   ]
  },
  {
   "cell_type": "code",
   "execution_count": 126,
   "id": "0e770c91-7d5a-43d1-8014-2ffc15684120",
   "metadata": {},
   "outputs": [
    {
     "name": "stdout",
     "output_type": "stream",
     "text": [
      "12.5\n",
      "[125, 'abc']\n",
      "['abc', 12.5]\n",
      "[1, 8, 27, 64, 125, 'abc', 12.5, 216, 343, 512, 729, 1000]\n",
      "1\n",
      "False\n",
      "[1, 2, 4, 64, 125, 'abc', 12.5, 216, 343, 512, 729, 2000, 2100]\n",
      "[1, 2, 125, 'abc', 12.5, 216, 343, 512, 729, 2000, 2100]\n",
      "11\n"
     ]
    }
   ],
   "source": [
    "#list can contain different values not just int but float, string etc.\n",
    "#Note: Slicing will always work from start to end.\n",
    "cubes = [1,8,27,64,125, \"abc\", 12.5]\n",
    "print(cubes[-1]) \n",
    "print(cubes[-3: -1])\n",
    "print(cubes[-2: ]) \n",
    "\n",
    "#concatenation\n",
    "cubes = cubes + [216,343, 512, 729,1000]\n",
    "print(cubes)\n",
    "\n",
    "cubes[-1] = 2000\n",
    "cubes[2] = 32\n",
    "cubes.append(2100) #append method adding new value at the end of list\n",
    "print(cubes.index(8)) #provides index of value present in list\n",
    "print(cubes[2] == 8)\n",
    "\n",
    "cubes[1:3] = [2,4] \n",
    "print(cubes)\n",
    "\n",
    "cubes[2:4] = [] #removes 2,3rd element from list\n",
    "print(cubes)\n",
    "\n",
    "print(len(cubes)) # length of list"
   ]
  },
  {
   "cell_type": "markdown",
   "id": "90476ec5-29d8-48d3-b332-a5dbff90918d",
   "metadata": {},
   "source": [
    "# Nested Lists"
   ]
  },
  {
   "cell_type": "code",
   "execution_count": 54,
   "id": "85f5bd05-971a-421a-9efa-78a387988dbd",
   "metadata": {},
   "outputs": [
    {
     "name": "stdout",
     "output_type": "stream",
     "text": [
      "[[1, 2, 125, 216, 343, 512, 729, 2000, 2100], [1, 2, 55, 21, 9]]\n",
      "[[1, 2, 125, 216, 343, 512, 729, 2000, 2100], [1, 2, 55, 21, 9], ['hello', 'hi', 'abc', 'des']]\n"
     ]
    }
   ],
   "source": [
    "tests = [1,2,55,21,9] #leading zeros in decimal integer literals not allowed e.g. 09\n",
    "new_list = [cubes,tests] #nested list\n",
    "print(new_list)\n",
    "\n",
    "alphabets_list = [\"hello\", \"hi\", 'abc', 'des'] #appending string list in nested one\n",
    "new_list.append(alphabets_list)\n",
    "print(new_list)"
   ]
  },
  {
   "cell_type": "markdown",
   "id": "17eaed4e-92dc-45ed-b53a-227a89ac7037",
   "metadata": {},
   "source": [
    "# Using Functions"
   ]
  },
  {
   "cell_type": "code",
   "execution_count": 74,
   "id": "6024c8fe-fc0e-45c0-91a1-ab8f4b379bf3",
   "metadata": {},
   "outputs": [
    {
     "name": "stdout",
     "output_type": "stream",
     "text": [
      "120\n",
      "factorial of 0 is 1\n",
      "362880\n",
      "43\n",
      "-12\n"
     ]
    }
   ],
   "source": [
    "#defining a method and writing factorial program using recursion\n",
    "def factorial_no(n):\n",
    "    if n > 1:\n",
    "        return n*factorial_no(n-1)\n",
    "    elif n == 0:\n",
    "        return \"factorial of 0 is 1\"\n",
    "    else:\n",
    "        return 1 #since factorial of 0 is 1\n",
    "\n",
    "#printing factorial using methods and using if else\n",
    "print(factorial_no(5))\n",
    "print(factorial_no(0))\n",
    "print(factorial_no(9))\n",
    "\n",
    "#sum of natural no using for loop \n",
    "def sum_of_natural_nos(n):\n",
    "    res = 0\n",
    "    for i in range(1,len(n)): #range will always exclude last element\n",
    "        res += n[i]\n",
    "    return res\n",
    "\n",
    "print(sum_of_natural_nos([1,3,4,5,6,7,8,10]))\n",
    "print(sum_of_natural_nos([-1,3,-40,-15,60,700,-800,80]))"
   ]
  },
  {
   "cell_type": "markdown",
   "id": "367eede4-d924-4bfc-b31d-4740a3a30d60",
   "metadata": {},
   "source": [
    "# Input Using Functions"
   ]
  },
  {
   "cell_type": "code",
   "execution_count": 83,
   "id": "3bd9de33-309b-4aa3-b134-c303a40018ec",
   "metadata": {},
   "outputs": [
    {
     "name": "stdin",
     "output_type": "stream",
     "text": [
      "Enter a number:  6\n"
     ]
    },
    {
     "name": "stdout",
     "output_type": "stream",
     "text": [
      "The factorial of 6 is 720\n"
     ]
    }
   ],
   "source": [
    "#taking an input to get factorial of no\n",
    "user_input = int(input(\"Enter a number: \"))\n",
    "res = factorial_no(user_input)\n",
    "print(f\"The factorial of {user_input} is {res}\")"
   ]
  },
  {
   "cell_type": "code",
   "execution_count": 87,
   "id": "be02d394-7afc-46bf-863f-94b03a8a21f2",
   "metadata": {},
   "outputs": [
    {
     "name": "stdout",
     "output_type": "stream",
     "text": [
      "hello\n",
      "abc\n",
      "[1, 4, 7]\n"
     ]
    }
   ],
   "source": [
    "words_list = [\"hello\", \"abc\"]\n",
    "for i in words_list:\n",
    "    print(i)\n",
    "\n",
    "#using range inside list\n",
    "range_lists = list(range(1,10,3))\n",
    "print(range_lists)"
   ]
  },
  {
   "cell_type": "markdown",
   "id": "60111b9a-7875-4110-b5a6-ff8b04da811c",
   "metadata": {},
   "source": [
    "# Switch Case Choice Game"
   ]
  },
  {
   "cell_type": "code",
   "execution_count": 95,
   "id": "daa54de0-1c6e-4e29-8ef8-a8e3cb3f27b3",
   "metadata": {},
   "outputs": [
    {
     "name": "stdin",
     "output_type": "stream",
     "text": [
      "Enter a no:  8\n"
     ]
    },
    {
     "data": {
      "text/plain": [
       "'Correct Answer'"
      ]
     },
     "execution_count": 95,
     "metadata": {},
     "output_type": "execute_result"
    }
   ],
   "source": [
    "def choice_no(n):\n",
    "    match(n):\n",
    "        case 1 | 2 | 3 :\n",
    "            return \"Its a nice one\"\n",
    "        case 5:\n",
    "            return \"No one looks at u\"       \n",
    "        case 8 | 9:\n",
    "            return \"Correct Answer\"\n",
    "        case _: #default case\n",
    "            return \"Wrong Answer Try Again\"\n",
    "\n",
    "\n",
    "user_choice = int(input(\"Enter a no: \"))\n",
    "choice_no(user_choice)"
   ]
  },
  {
   "cell_type": "markdown",
   "id": "67079215-53b1-4505-a6aa-388edcf5e57b",
   "metadata": {},
   "source": [
    "# Break and Continue"
   ]
  },
  {
   "cell_type": "code",
   "execution_count": 108,
   "id": "5f219277-8979-4be4-b921-1c59a1b895d4",
   "metadata": {},
   "outputs": [
    {
     "name": "stdout",
     "output_type": "stream",
     "text": [
      "8 is Prime No\n",
      "2 is Prime No\n",
      "2 is Even No\n",
      "4 is Prime No\n",
      "2 is Even No\n",
      "6 is Prime No\n",
      "2 is Even No\n",
      "3 is Even No\n",
      "-----------------------\n",
      "3 is Prime No\n",
      "3 is Prime No\n",
      "2 is Prime No\n",
      "2 is Even No\n",
      "3 is Prime No\n",
      "4 is Prime No\n",
      "2 is Even No\n",
      "3 is Even No\n",
      "5 is Prime No\n",
      "6 is Prime No\n",
      "2 is Even No\n",
      "4 is Even No\n",
      "7 is Prime No\n",
      "3 is Even No\n",
      "8 is Prime No\n"
     ]
    }
   ],
   "source": [
    "for i in range(2,10):\n",
    "    for j in range(2, i):\n",
    "        if i % j == 0:\n",
    "            print(f\"{j} is Even No\")\n",
    "            break # stops the iteration if match found moves to next val of i\n",
    "    else:\n",
    "        print(f\"{j} is Prime No\")\n",
    "\n",
    "print(\"-----------------------\")\n",
    "for i in range(1,10):\n",
    "    for j in range(2, i):\n",
    "        if i % j == 0:\n",
    "            print(f\"{j} is Even No\")\n",
    "            continue # Continue starts new iteration even if match not found\n",
    "    else:\n",
    "        print(f\"{j} is Prime No\")"
   ]
  },
  {
   "cell_type": "markdown",
   "id": "a6a6520b-60a8-4d3e-954d-52c2f7e7c0eb",
   "metadata": {},
   "source": [
    "# Lambda Expressions"
   ]
  },
  {
   "cell_type": "code",
   "execution_count": 124,
   "id": "17821090-282a-48f8-833a-ebc4704b9507",
   "metadata": {},
   "outputs": [
    {
     "name": "stdout",
     "output_type": "stream",
     "text": [
      "The cube is : 125\n"
     ]
    }
   ],
   "source": [
    "# With help of lambda expression we can return one function to other function or return function from other function\n",
    "\n",
    "def provide_cube_no(x):\n",
    "    return lambda x: x ** 3\n",
    "\n",
    "#when u return provide_cube_no(4) it returns lamda function properties and provide_cube_no(4)(4) it returns actual value so\n",
    "print(f\"The cube is : {provide_cube_no(1)(5)}\")"
   ]
  },
  {
   "cell_type": "markdown",
   "id": "56dff7dd-0b74-47b9-a12c-a3485d96c4d3",
   "metadata": {},
   "source": [
    "# List operations"
   ]
  },
  {
   "cell_type": "code",
   "execution_count": 144,
   "id": "8765f00a-b077-4658-89de-5d415821047d",
   "metadata": {},
   "outputs": [
    {
     "name": "stdout",
     "output_type": "stream",
     "text": [
      "512\n",
      "216\n",
      "[120, 120]\n",
      "red\n",
      "['red', 'yellow', 'blue', 'violet']\n",
      "[1800, 800, 1000]\n"
     ]
    }
   ],
   "source": [
    "cubes.insert(2, 120)\n",
    "\n",
    "#remove first val\n",
    "del cubes[0]\n",
    "\n",
    "#removes last \n",
    "# last_no = cubes.pop()\n",
    "\n",
    "#removes by index\n",
    "# second_no = cubes.pop(2)\n",
    "\n",
    "#remove value\n",
    "# cubes.remove(343)\n",
    "\n",
    "print(last_no)\n",
    "print(second_no)\n",
    "print(cubes)\n",
    "\n",
    "colors = ['red', 'orange', 'yellow', 'green', 'blue', 'indigo', 'violet']\n",
    "sub_colors = colors[::2]\n",
    "\n",
    "colors_iter = iter(colors)\n",
    "print(next(colors_iter))\n",
    "\n",
    "print(sub_colors)\n",
    "\n",
    "bonuses = [900,400,500]\n",
    "names = ['abby', 'ellie', 'joel']\n",
    "\n",
    "#using map with lambda map will return objects\n",
    "new_bonuses = list(map(lambda bonus: bonus * 2, bonuses))\n",
    "print(new_bonuses)"
   ]
  },
  {
   "cell_type": "markdown",
   "id": "b8c9655d-e904-4b86-99a2-90d9605ce2ef",
   "metadata": {},
   "source": [
    "# Tuples Operations"
   ]
  },
  {
   "cell_type": "code",
   "execution_count": 5,
   "id": "a491b4d0-186a-4cff-9475-098576c6bf01",
   "metadata": {},
   "outputs": [
    {
     "name": "stdout",
     "output_type": "stream",
     "text": [
      "(5, 6)\n",
      "16\n",
      "(1, 4, 5, 6)\n"
     ]
    }
   ],
   "source": [
    "from functools import reduce\n",
    "\n",
    "numbers = (1,4,5,6)\n",
    "\n",
    "#tuple does not support item assignment\n",
    "# numbers[0] = 2\n",
    "\n",
    "total = reduce(lambda a, b : a + b, numbers)\n",
    "\n",
    "#filter always return filter object similar like map need to bind it with list or tuple or set to get output\n",
    "filtered_nos = tuple(filter(lambda no: no > 4, numbers))\n",
    "\n",
    "print(filtered_nos)\n",
    "print(total)\n",
    "print(numbers)"
   ]
  },
  {
   "cell_type": "markdown",
   "id": "79a1ac0e-02a4-40cf-8036-e89cd64295c3",
   "metadata": {},
   "source": [
    "# List Comprehensions"
   ]
  },
  {
   "cell_type": "code",
   "execution_count": 14,
   "id": "8c4bb9e9-25e6-401b-87aa-40350a8642f2",
   "metadata": {},
   "outputs": [
    {
     "name": "stdout",
     "output_type": "stream",
     "text": [
      "[8, 27, 64, 125, 512, 729]\n",
      "[['Maths', 90], ['Social Studies', 92]]\n"
     ]
    }
   ],
   "source": [
    "nums = [2,3,4,5,8,9]\n",
    "subjects_marks = [\n",
    "    ['Maths',90],\n",
    "    ['Science',85],\n",
    "    ['Social Studies', 92],\n",
    "    ['Hindi', 85]\n",
    "]; \n",
    "\n",
    "cubes_list = [n ** 3 for n in nums]\n",
    "\n",
    "# add updated lists\n",
    "# updates_sm_lists = [sm[1] > 85 for sm in subjects_marks] \n",
    "updates_sm_lists = list(filter(lambda x: x[1] > 85, subjects_marks))\n",
    "\n",
    "print(cubes_list)\n",
    "print(updates_sm_lists)"
   ]
  },
  {
   "cell_type": "markdown",
   "id": "0607c49d-ce68-4c31-bbf5-bbc2c9940beb",
   "metadata": {},
   "source": [
    "# Dictionaries"
   ]
  },
  {
   "cell_type": "code",
   "execution_count": 20,
   "id": "687b6909-7522-448c-9e0e-ff9ad5f78808",
   "metadata": {},
   "outputs": [
    {
     "name": "stdout",
     "output_type": "stream",
     "text": [
      "Science 88\n",
      "Maths 90\n",
      "Marathi 91\n",
      "Hindi 82\n",
      "-----------------------------\n",
      "Science\n",
      "Maths\n",
      "Marathi\n",
      "Hindi\n",
      "-----------------------------\n",
      "88\n",
      "90\n",
      "91\n",
      "82\n"
     ]
    }
   ],
   "source": [
    "subjects_percent = {\n",
    "    'Science': 88,\n",
    "    'Maths': 90,\n",
    "    'Marathi': 91,\n",
    "    'Hindi': 82\n",
    "}\n",
    "\n",
    "# accessing key, value pairs in dictoniaries\n",
    "for key, value in subjects_percent.items():\n",
    "    print(key, value)\n",
    "\n",
    "print(\"-----------------------------\")\n",
    "\n",
    "# accessing keys in dictionaries\n",
    "for key in subjects_percent.keys():\n",
    "    print(key)\n",
    "\n",
    "print(\"-----------------------------\")\n",
    "\n",
    "# accessing keys in dictionaries\n",
    "for value in subjects_percent.values():\n",
    "    print(value)"
   ]
  },
  {
   "cell_type": "markdown",
   "id": "2faef20c-ca43-4ced-bb7a-587023966b31",
   "metadata": {},
   "source": [
    "# Dictionary Comprehensions"
   ]
  },
  {
   "cell_type": "code",
   "execution_count": 22,
   "id": "d6991f2e-c806-46bb-85ba-63c4f588a452",
   "metadata": {},
   "outputs": [
    {
     "name": "stdout",
     "output_type": "stream",
     "text": [
      "{'AAPL': 606.2099999999999, 'AMZN': 16933.8, 'MSFT': 1097.19, 'BIIB': 1402.8, 'QDEL': 1332.6599999999999, 'LVGO': 721.4399999999999}\n"
     ]
    }
   ],
   "source": [
    "stocks = {\n",
    "    'AAPL': 121,\n",
    "    'AMZN': 3380,\n",
    "    'MSFT': 219,\n",
    "    'BIIB': 280,\n",
    "    'QDEL': 266,\n",
    "    'LVGO': 144\n",
    "}\n",
    "\n",
    "stocks_prizes_filters= {symbol: price * 5.01 for symbol, price in stocks.items()}\n",
    "\n",
    "\n",
    "print(stocks_prizes_filters)"
   ]
  },
  {
   "cell_type": "markdown",
   "id": "a99c7843-6f7a-4da4-8e11-f2e8d94fb8e2",
   "metadata": {},
   "source": [
    "# Sets"
   ]
  },
  {
   "cell_type": "code",
   "execution_count": 26,
   "id": "8b5cfd9c-e752-4642-bd44-298da332db12",
   "metadata": {},
   "outputs": [
    {
     "name": "stdout",
     "output_type": "stream",
     "text": [
      "{'o', 'e', 'l', 'g'}\n",
      "<class 'set'>\n",
      "(0, 1)\n",
      "(1, 2)\n",
      "(2, 3)\n",
      "(3, 4)\n",
      "(4, 5)\n"
     ]
    }
   ],
   "source": [
    "characters = set('google')\n",
    "print(characters)\n",
    "\n",
    "#sets also denoted by curly braces with no key value pairs\n",
    "ratings = {1,4,2,3,5}\n",
    "print(type(ratings))\n",
    "\n",
    "#enumerate adds counter to each item of ratings\n",
    "for i in enumerate(ratings):\n",
    "    print(i)"
   ]
  },
  {
   "cell_type": "markdown",
   "id": "e1c5b4ca-0441-4fb3-a07d-06d51784e6a3",
   "metadata": {},
   "source": [
    "# Sets Union, Intersection, Diff Use"
   ]
  },
  {
   "cell_type": "code",
   "execution_count": 36,
   "id": "5c94ea91-6c14-4dad-84f9-ace27f2a1885",
   "metadata": {},
   "outputs": [
    {
     "name": "stdout",
     "output_type": "stream",
     "text": [
      "{'Phsyics', 'Maths', 'History', 'Science'}\n",
      "{'Science'}\n",
      "{'History'}\n",
      "{'Phsyics', 'History', 'Maths'}\n"
     ]
    }
   ],
   "source": [
    "s1 = {\"Science\", \"History\"}\n",
    "s2 = {\"Phsyics\", \"Maths\", \"Science\" }\n",
    "\n",
    "# union operation | operator to denote it\n",
    "# unions = s1.union(s2) this supports iterables like list, set which can convert to set\n",
    "\n",
    "# this supports only set types otherwise it will throw error\n",
    "unions = s1 | s2 \n",
    "print(unions)\n",
    "\n",
    "#intersection operation & operator to denote it\n",
    "intersections = s1.intersection(s2)\n",
    "print(intersections)\n",
    "\n",
    "#difference operation - operator to denote it provides only differnce from s1 set\n",
    "differences = s1.difference(s2)\n",
    "print(differences)\n",
    "\n",
    "#symmetric difference operation ^ operator to denote it provides difference between both set\n",
    "sym_differences = s1.symmetric_difference(s2)\n",
    "print(sym_differences)"
   ]
  },
  {
   "cell_type": "markdown",
   "id": "3b4eb441-0259-4acc-a231-47e674dc3779",
   "metadata": {},
   "source": [
    "# Subset, Superset and Disjoint Sets"
   ]
  },
  {
   "cell_type": "code",
   "execution_count": 41,
   "id": "79093508-e0b5-4184-b822-a0668881162e",
   "metadata": {},
   "outputs": [
    {
     "name": "stdout",
     "output_type": "stream",
     "text": [
      "True\n",
      "False\n",
      "True\n",
      "False\n"
     ]
    }
   ],
   "source": [
    "numbers = {1, 2, 3, 4, 5}\n",
    "scores = {1, 2, 3}\n",
    "\n",
    "# subset means values included in both sets and denoted by < operator\n",
    "result = scores.issubset(numbers)\n",
    "print(result)\n",
    "\n",
    "# superset means values included in set 1 has all values of s2 and itself and denoted by >= operator\n",
    "result = scores.issuperset(numbers)\n",
    "print(result)\n",
    "\n",
    "result = numbers.issuperset(scores)\n",
    "print(result)\n",
    "\n",
    "#disjoint sets returns true if no common elememnt is present in both sets \n",
    "result = numbers.isdisjoint(scores)\n",
    "print(result)"
   ]
  },
  {
   "cell_type": "markdown",
   "id": "e3f049b9-68e0-46c1-8c73-6d4902bc0649",
   "metadata": {},
   "source": [
    "# Try Catch (Except) Finally Else Exceptions"
   ]
  },
  {
   "cell_type": "code",
   "execution_count": 51,
   "id": "eea20d89-ceef-43bf-84fc-cf5afbe9c57e",
   "metadata": {},
   "outputs": [
    {
     "name": "stdout",
     "output_type": "stream",
     "text": [
      "Inside try block\n"
     ]
    },
    {
     "name": "stdin",
     "output_type": "stream",
     "text": [
      "Enter a no 1:  5\n",
      "Enter a no 2:  2\n"
     ]
    },
    {
     "name": "stdout",
     "output_type": "stream",
     "text": [
      "5 / 2 is 2.5\n",
      "Executed finally block\n"
     ]
    }
   ],
   "source": [
    "#Divide by zero error demo using try except block\n",
    "try:\n",
    "    print(\"Inside try block\")\n",
    "\n",
    "    no1 = int(input(\"Enter a no 1: \"))\n",
    "    no2 = int(input(\"Enter a no 2: \"))\n",
    "\n",
    "    res = no1 / no2\n",
    "\n",
    "#catch is replaced by except and if we dont have idea of error directly write except: it will catch all errors\n",
    "#otherwise provide multiple error alongside except statement\n",
    "except ValueError:\n",
    "    print(\"String values are not allowed\")\n",
    "except ZeroDivisionError:\n",
    "    print(\"No2 input cannot be 0\")\n",
    "#if no errors occurs during try block code execution else block will execute\n",
    "else:\n",
    "    print(f\"{no1} / {no2} is {res}\")\n",
    "finally:\n",
    "    print(\"Executed finally block\")"
   ]
  },
  {
   "cell_type": "markdown",
   "id": "255a8b91-9b92-4c05-8922-d5d522be98cd",
   "metadata": {},
   "source": [
    "# File Handling And Writing Data"
   ]
  },
  {
   "cell_type": "code",
   "execution_count": 79,
   "id": "fb33dc46-8962-46f2-a81e-b2b4c0cac2be",
   "metadata": {},
   "outputs": [
    {
     "name": "stdout",
     "output_type": "stream",
     "text": [
      "True\n",
      "The file Docs.txt exists\n"
     ]
    }
   ],
   "source": [
    "import os\n",
    "import pathlib \n",
    "\n",
    "# with open('Docs.txt') as t:\n",
    "#     lines = t.readlines()\n",
    "#     print(lines)\n",
    "\n",
    "# open(path_to_file, mode)\n",
    "file_name = 'Docs.txt'\n",
    "txtFile = open(file_name,'w')\n",
    "\n",
    "#read returns complete string\n",
    "# print(txtFile.read())\n",
    "\n",
    "#readlines return list of strings\n",
    "# print(txtFile.readlines())\n",
    "\n",
    "#strip removes blank spaces\n",
    "# for i in txtFile.readlines():\n",
    "#     print(txtFile.strip())\n",
    "\n",
    "txtFile.writelines(\"hello\")\n",
    "# print(txtFile.readlines())\n",
    "\n",
    "#reading \n",
    "res = os.path.exists(file_name)\n",
    "print(res)\n",
    "\n",
    "path = pathlib.Path(file_name)\n",
    "\n",
    "if(path.is_file()):\n",
    "    print(f\"The file {file_name} exists\")\n",
    "else:\n",
    "    print(f\"The file {file_name} does nt exists\")"
   ]
  },
  {
   "cell_type": "markdown",
   "id": "2057faff-452e-4901-92f2-2f9ad1f76572",
   "metadata": {},
   "source": [
    "# CSV File Handling"
   ]
  },
  {
   "cell_type": "code",
   "execution_count": 86,
   "id": "de000e93-df5b-4c17-9455-6ba2360b11c4",
   "metadata": {},
   "outputs": [
    {
     "name": "stdout",
     "output_type": "stream",
     "text": [
      "The area name is Afghanistan and area is 652090 km\n",
      "The area name is Albania and area is 28748 km\n",
      "The area name is Algeria and area is 2381741 km\n",
      "The area name is American Samoa and area is 199 km\n",
      "The area name is Andorra and area is 468 km\n",
      "The area name is Angola and area is 1246700 km\n",
      "The area name is Anguilla and area is 96 km\n",
      "The area name is Antarctica and area is 13120000 km\n",
      "The area name is Antigua and Barbuda and area is 442 km\n",
      "The area name is Argentina and area is 2780400 km\n",
      "The area name is Armenia and area is 29800 km\n",
      "The area name is Aruba and area is 193 km\n",
      "The area name is Australia and area is 7741220 km\n",
      "The area name is Austria and area is 83859 km\n",
      "The area name is Azerbaijan and area is 86600 km\n",
      "The area name is Bahamas and area is 13878 km\n",
      "The area name is Bahrain and area is 694 km\n",
      "The area name is Bangladesh and area is 143998 km\n",
      "The area name is Barbados and area is 430 km\n",
      "The area name is Belarus and area is 207600 km\n",
      "The area name is Belgium and area is 30518 km\n",
      "The area name is Belize and area is 22696 km\n",
      "The area name is Benin and area is 112622 km\n",
      "The area name is Bermuda and area is 53 km\n",
      "The area name is Bhutan and area is 47000 km\n",
      "The area name is Bolivia and area is 1098581 km\n",
      "The area name is Bosnia and Herzegovina and area is 51197 km\n",
      "The area name is Botswana and area is 581730 km\n",
      "The area name is Bouvet Island and area is 59 km\n",
      "The area name is Brazil and area is 8547403 km\n",
      "The area name is British Indian Ocean Territory and area is 78 km\n",
      "The area name is Brunei and area is 5765 km\n",
      "The area name is Bulgaria and area is 110994 km\n",
      "The area name is Burkina Faso and area is 274000 km\n",
      "The area name is Burundi and area is 27834 km\n",
      "The area name is Cambodia and area is 181035 km\n",
      "The area name is Cameroon and area is 475442 km\n",
      "The area name is Canada and area is 9970610 km\n",
      "The area name is Cape Verde and area is 4033 km\n",
      "The area name is Cayman Islands and area is 264 km\n",
      "The area name is Central African Republic and area is 622984 km\n",
      "The area name is Chad and area is 1284000 km\n",
      "The area name is Chile and area is 756626 km\n",
      "The area name is China and area is 9572900 km\n",
      "The area name is Christmas Island and area is 135 km\n",
      "The area name is Cocos (Keeling) Islands and area is 14 km\n",
      "The area name is Colombia and area is 1138914 km\n",
      "The area name is Comoros and area is 1862 km\n",
      "The area name is Congo and area is 342000 km\n",
      "The area name is Cook Islands and area is 236 km\n",
      "The area name is Costa Rica and area is 51100 km\n",
      "The area name is CÃ´te dâ€™Ivoire and area is 322463 km\n",
      "The area name is Croatia and area is 56538 km\n",
      "The area name is Cuba and area is 110861 km\n",
      "The area name is Cyprus and area is 9251 km\n",
      "The area name is Czech Republic and area is 78866 km\n",
      "The area name is Denmark and area is 43094 km\n",
      "The area name is Djibouti and area is 23200 km\n",
      "The area name is Dominica and area is 751 km\n",
      "The area name is Dominican Republic and area is 48511 km\n",
      "The area name is East Timor and area is 14874 km\n",
      "The area name is Ecuador and area is 283561 km\n",
      "The area name is Egypt and area is 1001449 km\n",
      "The area name is El Salvador and area is 21041 km\n",
      "The area name is Equatorial Guinea and area is 28051 km\n",
      "The area name is Eritrea and area is 117600 km\n",
      "The area name is Estonia and area is 45227 km\n",
      "The area name is Ethiopia and area is 1104300 km\n",
      "The area name is Falkland Islands and area is 12173 km\n",
      "The area name is Faroe Islands and area is 1399 km\n",
      "The area name is Federated States of Micronesia and area is 702 km\n",
      "The area name is Fiji Islands and area is 18274 km\n",
      "The area name is Finland and area is 338145 km\n",
      "The area name is France and area is 551500 km\n",
      "The area name is French Guiana and area is 90000 km\n",
      "The area name is French Polynesia and area is 4000 km\n",
      "The area name is French Southern territories and area is 7780 km\n",
      "The area name is Gabon and area is 267668 km\n",
      "The area name is Gambia and area is 11295 km\n",
      "The area name is Georgia and area is 69700 km\n",
      "The area name is Germany and area is 357022 km\n",
      "The area name is Ghana and area is 238533 km\n",
      "The area name is Gibraltar and area is 6 km\n",
      "The area name is Greece and area is 131626 km\n",
      "The area name is Greenland and area is 2166090 km\n",
      "The area name is Grenada and area is 344 km\n",
      "The area name is Guadeloupe and area is 1705 km\n",
      "The area name is Guam and area is 549 km\n",
      "The area name is Guatemala and area is 108889 km\n",
      "The area name is Guinea and area is 245857 km\n",
      "The area name is Guinea-Bissau and area is 36125 km\n",
      "The area name is Guyana and area is 214969 km\n",
      "The area name is Haiti and area is 27750 km\n",
      "The area name is Heard Island and McDonald Islands and area is 359 km\n",
      "The area name is Holy See (Vatican City State) and area is 0.4 km\n",
      "The area name is Honduras and area is 112088 km\n",
      "The area name is Hong Kong and area is 1075 km\n",
      "The area name is Hungary and area is 93030 km\n",
      "The area name is Iceland and area is 103000 km\n",
      "The area name is India and area is 3287263 km\n",
      "The area name is Indonesia and area is 1904569 km\n",
      "The area name is Iran and area is 1648195 km\n",
      "The area name is Iraq and area is 438317 km\n",
      "The area name is Ireland and area is 70273 km\n",
      "The area name is Israel and area is 21056 km\n",
      "The area name is Italy and area is 301316 km\n",
      "The area name is Jamaica and area is 10990 km\n",
      "The area name is Japan and area is 377829 km\n",
      "The area name is Jordan and area is 88946 km\n",
      "The area name is Kazakstan and area is 2724900 km\n",
      "The area name is Kenya and area is 580367 km\n",
      "The area name is Kiribati and area is 726 km\n",
      "The area name is Kuwait and area is 17818 km\n",
      "The area name is Kyrgyzstan and area is 199900 km\n",
      "The area name is Laos and area is 236800 km\n",
      "The area name is Latvia and area is 64589 km\n",
      "The area name is Lebanon and area is 10400 km\n",
      "The area name is Lesotho and area is 30355 km\n",
      "The area name is Liberia and area is 111369 km\n",
      "The area name is Libyan Arab Jamahiriya and area is 1759540 km\n",
      "The area name is Liechtenstein and area is 160 km\n",
      "The area name is Lithuania and area is 65301 km\n",
      "The area name is Luxembourg and area is 2586 km\n",
      "The area name is Macao and area is 18 km\n",
      "The area name is Macedonia and area is 25713 km\n",
      "The area name is Madagascar and area is 587041 km\n",
      "The area name is Malawi and area is 118484 km\n",
      "The area name is Malaysia and area is 329758 km\n",
      "The area name is Maldives and area is 298 km\n",
      "The area name is Mali and area is 1240192 km\n",
      "The area name is Malta and area is 316 km\n",
      "The area name is Marshall Islands and area is 181 km\n",
      "The area name is Martinique and area is 1102 km\n",
      "The area name is Mauritania and area is 1025520 km\n",
      "The area name is Mauritius and area is 2040 km\n",
      "The area name is Mayotte and area is 373 km\n",
      "The area name is Mexico and area is 1958201 km\n",
      "The area name is Moldova and area is 33851 km\n",
      "The area name is Monaco and area is 1.5 km\n",
      "The area name is Mongolia and area is 1566500 km\n",
      "The area name is Montserrat and area is 102 km\n",
      "The area name is Morocco and area is 446550 km\n",
      "The area name is Mozambique and area is 801590 km\n",
      "The area name is Myanmar and area is 676578 km\n",
      "The area name is Namibia and area is 824292 km\n",
      "The area name is Nauru and area is 21 km\n",
      "The area name is Nepal and area is 147181 km\n",
      "The area name is Netherlands and area is 41526 km\n",
      "The area name is Netherlands Antilles and area is 800 km\n",
      "The area name is New Caledonia and area is 18575 km\n",
      "The area name is New Zealand and area is 270534 km\n",
      "The area name is Nicaragua and area is 130000 km\n",
      "The area name is Niger and area is 1267000 km\n",
      "The area name is Nigeria and area is 923768 km\n",
      "The area name is Niue and area is 260 km\n",
      "The area name is Norfolk Island and area is 36 km\n",
      "The area name is North Korea and area is 120538 km\n",
      "The area name is Northern Mariana Islands and area is 464 km\n",
      "The area name is Norway and area is 323877 km\n",
      "The area name is Oman and area is 309500 km\n",
      "The area name is Pakistan and area is 796095 km\n",
      "The area name is Palau and area is 459 km\n",
      "The area name is Palestine and area is 6257 km\n",
      "The area name is Panama and area is 75517 km\n",
      "The area name is Papua New Guinea and area is 462840 km\n",
      "The area name is Paraguay and area is 406752 km\n",
      "The area name is Peru and area is 1285216 km\n",
      "The area name is Philippines and area is 300000 km\n",
      "The area name is Pitcairn and area is 49 km\n",
      "The area name is Poland and area is 323250 km\n",
      "The area name is Portugal and area is 91982 km\n",
      "The area name is Puerto Rico and area is 8875 km\n",
      "The area name is Qatar and area is 11000 km\n",
      "The area name is RÃ©union and area is 2510 km\n",
      "The area name is Romania and area is 238391 km\n",
      "The area name is Russian Federation and area is 17075400 km\n",
      "The area name is Rwanda and area is 26338 km\n",
      "The area name is Saint Helena and area is 314 km\n",
      "The area name is Saint Kitts and Nevis and area is 261 km\n",
      "The area name is Saint Lucia and area is 622 km\n",
      "The area name is Saint Pierre and Miquelon and area is 242 km\n",
      "The area name is Saint Vincent and the Grenadines and area is 388 km\n",
      "The area name is Samoa and area is 2831 km\n",
      "The area name is San Marino and area is 61 km\n",
      "The area name is Sao Tome and Principe and area is 964 km\n",
      "The area name is Saudi Arabia and area is 2149690 km\n",
      "The area name is Senegal and area is 196722 km\n",
      "The area name is Seychelles and area is 455 km\n",
      "The area name is Sierra Leone and area is 71740 km\n",
      "The area name is Singapore and area is 618 km\n",
      "The area name is Slovakia and area is 49012 km\n",
      "The area name is Slovenia and area is 20256 km\n",
      "The area name is Solomon Islands and area is 28896 km\n",
      "The area name is Somalia and area is 637657 km\n",
      "The area name is South Africa and area is 1221037 km\n",
      "The area name is South Georgia and the South Sandwich Islands and area is 3903 km\n",
      "The area name is South Korea and area is 99434 km\n",
      "The area name is Spain and area is 505992 km\n",
      "The area name is Sri Lanka and area is 65610 km\n",
      "The area name is Sudan and area is 2505813 km\n",
      "The area name is Suriname and area is 163265 km\n",
      "The area name is Svalbard and Jan Mayen and area is 62422 km\n",
      "The area name is Swaziland and area is 17364 km\n",
      "The area name is Sweden and area is 449964 km\n",
      "The area name is Switzerland and area is 41284 km\n",
      "The area name is Syria and area is 185180 km\n",
      "The area name is Taiwan and area is 36188 km\n",
      "The area name is Tajikistan and area is 143100 km\n",
      "The area name is Tanzania and area is 883749 km\n",
      "The area name is Thailand and area is 513115 km\n",
      "The area name is The Democratic Republic of the Congo and area is 2344858 km\n",
      "The area name is Togo and area is 56785 km\n",
      "The area name is Tokelau and area is 12 km\n",
      "The area name is Tonga and area is 650 km\n",
      "The area name is Trinidad and Tobago and area is 5130 km\n",
      "The area name is Tunisia and area is 163610 km\n",
      "The area name is Turkey and area is 774815 km\n",
      "The area name is Turkmenistan and area is 488100 km\n",
      "The area name is Turks and Caicos Islands and area is 430 km\n",
      "The area name is Tuvalu and area is 26 km\n",
      "The area name is Uganda and area is 241038 km\n",
      "The area name is Ukraine and area is 603700 km\n",
      "The area name is United Arab Emirates and area is 83600 km\n",
      "The area name is United Kingdom and area is 242900 km\n",
      "The area name is United States and area is 9363520 km\n",
      "The area name is United States Minor Outlying Islands and area is 16 km\n",
      "The area name is Uruguay and area is 175016 km\n",
      "The area name is Uzbekistan and area is 447400 km\n",
      "The area name is Vanuatu and area is 12189 km\n",
      "The area name is Venezuela and area is 912050 km\n",
      "The area name is Vietnam and area is 331689 km\n",
      "The area name is Virgin Islands, British and area is 151 km\n",
      "The area name is Virgin Islands, U.S. and area is 347 km\n",
      "The area name is Wallis and Futuna and area is 200 km\n",
      "The area name is Western Sahara and area is 266000 km\n",
      "The area name is Yemen and area is 527968 km\n",
      "The area name is Yugoslavia and area is 102173 km\n",
      "The area name is Zambia and area is 752618 km\n",
      "The area name is Zimbabwe and area is 390757 km\n"
     ]
    }
   ],
   "source": [
    "import csv\n",
    "\n",
    "csv_file = open('country.csv','r')\n",
    "\n",
    "# reader returns csv object need to loop\n",
    "# using reader we can only read data like this line[0] implicitly means the country name. \n",
    "# It would be more expressive if you can access the country name like line['country_name']\n",
    "# csv_reader = csv.reader(csv_file)\n",
    "csv_reader = csv.DictReader(csv_file)\n",
    "\n",
    "# for line_no,line in enumerate(csv_reader, 1):\n",
    "#     if line_no == 1:\n",
    "#         print(\"Header:\")\n",
    "#         print(line)\n",
    "#         print(\"Data:\")\n",
    "#     else:\n",
    "#         print(line)\n",
    "\n",
    "for line in csv_reader:\n",
    "    print(f\"The area name is {line['name']} and area is {line['area']} km\")"
   ]
  },
  {
   "cell_type": "code",
   "execution_count": 95,
   "id": "c8304093-981f-458d-aa0d-dec817112dca",
   "metadata": {},
   "outputs": [],
   "source": [
    "# csv header\n",
    "fieldnames = ['name', 'area', 'country_code2', 'country_code3']\n",
    "\n",
    "# csv data\n",
    "rows = [\n",
    "    {'name': 'Albania',\n",
    "    'area': 28748,\n",
    "    'country_code2': 'AL',\n",
    "    'country_code3': 'ALB'},\n",
    "    {'name': 'Algeria',\n",
    "    'area': 2381741,\n",
    "    'country_code2': 'DZ',\n",
    "    'country_code3': 'DZA'},\n",
    "    {'name': 'American Samoa',\n",
    "    'area': 199,\n",
    "    'country_code2': 'AS',\n",
    "    'country_code3': 'ASM'}\n",
    "]\n",
    "\n",
    "with open('countries.csv', 'w', encoding='UTF8', newline='') as f:\n",
    "    writer = csv.DictWriter(f, fieldnames=fieldnames)\n",
    "    writer.writeheader()\n",
    "    writer.writerows(rows)"
   ]
  },
  {
   "cell_type": "code",
   "execution_count": 110,
   "id": "8eaeca68-b267-4be0-b09a-fc5e897d5022",
   "metadata": {},
   "outputs": [
    {
     "name": "stdout",
     "output_type": "stream",
     "text": [
      "E:\\Python\n",
      "<generator object walk at 0x0000027CF768C770>\n"
     ]
    }
   ],
   "source": [
    "# try:\n",
    "#     os.rename('TestDoc.xlsx', 'TestDoc1.xlsx')\n",
    "# except FileNotFoundError as e:\n",
    "#     print(e)\n",
    "# except FileExistsError as e:\n",
    "#     print(e)\n",
    "\n",
    "# dir = os.path.join(\"E:\\\\Python\", \"test\")\n",
    "# print(dir)\n",
    "\n",
    "# if os.path.exists(dir) or os.path.isdir(dir):\n",
    "#     # os.mkdir(dir)\n",
    "#     print(f'The {dir} is a directory')\n",
    "\n",
    "oldpath = os.path.join(\"E:\\\\\", \"Python\", \"test\")\n",
    "newpath = os.path.join(\"E:\\\\\", \"Python\", \"test2\")\n",
    "\n",
    "if os.path.exists(oldpath) and not os.path.exists(newpath):\n",
    "    os.rename(oldpath, newpath)\n",
    "    print(\"'{0}' was renamed to '{1}'\".format(oldpath, newpath))\n",
    "\n",
    "# os.rmdir(newpath)\n",
    "\n",
    "print(os.getcwd())\n",
    "print(os.walk(\"E:\\\\\"))"
   ]
  }
 ],
 "metadata": {
  "kernelspec": {
   "display_name": "Python 3 (ipykernel)",
   "language": "python",
   "name": "python3"
  },
  "language_info": {
   "codemirror_mode": {
    "name": "ipython",
    "version": 3
   },
   "file_extension": ".py",
   "mimetype": "text/x-python",
   "name": "python",
   "nbconvert_exporter": "python",
   "pygments_lexer": "ipython3",
   "version": "3.12.7"
  }
 },
 "nbformat": 4,
 "nbformat_minor": 5
}
