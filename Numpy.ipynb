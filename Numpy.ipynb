{
 "cells": [
  {
   "cell_type": "markdown",
   "id": "b8cc9718-5352-47b3-bc6a-9b0efd7d44d6",
   "metadata": {},
   "source": [
    "# Numpy Array Operations"
   ]
  },
  {
   "cell_type": "code",
   "execution_count": 1,
   "id": "fea3e9ec-4e8b-4b34-93fe-e27342735807",
   "metadata": {},
   "outputs": [
    {
     "name": "stdout",
     "output_type": "stream",
     "text": [
      "[0 2 4 6 8]\n",
      "[0.57457495 0.5152656  0.78485555 0.52254953 0.04159169 0.27771037\n",
      " 0.97542022 0.35583744 0.38682209 0.41095321]\n",
      "[3.44900369e-307 3.22646744e-307 1.05695422e-307 1.44635488e-307\n",
      " 1.37962320e-306]\n"
     ]
    }
   ],
   "source": [
    "import numpy as np\n",
    "\n",
    "#np arrays is a multidimensional array and better than using list to store large data\n",
    "square_arr = np.array([1,2,9,16,25])\n",
    "\n",
    "#zeros func create 5 elements with 0 values\n",
    "zeros_arr = np.zeros(5)\n",
    "# print(zeros_arr)\n",
    "\n",
    "# arange func works like range has similar inputs fields\n",
    "# arange_arr = np.arange(5)\n",
    "# print(arange_arr)\n",
    "\n",
    "newrange_arr = np.arange(0,9,2)\n",
    "print(newrange_arr)\n",
    "\n",
    "# random.rand an array on 10 random numbers between 0 to 1\n",
    "rand_arr = np.random.rand(10)\n",
    "print(rand_arr)\n",
    "\n",
    "# create an empty array of length 5\n",
    "empty_arr = np.empty(5)\n",
    "print(empty_arr)\n",
    "\n",
    "# dtype returns type\n",
    "# print(empty_arr.dtype)"
   ]
  },
  {
   "cell_type": "markdown",
   "id": "3d070376-6997-49dd-b0f3-38f45d0d7fdf",
   "metadata": {},
   "source": [
    "# 2D AND 3D ARRAY OPERATIONS"
   ]
  },
  {
   "cell_type": "code",
   "execution_count": 2,
   "id": "e43a85a4-3c35-47ba-920f-911f26fcac09",
   "metadata": {},
   "outputs": [
    {
     "data": {
      "text/plain": [
       "array([[[13, 14, 15, 16],\n",
       "        [17, 18, 19, 20],\n",
       "        [21, 22, 23, 24]]])"
      ]
     },
     "execution_count": 2,
     "metadata": {},
     "output_type": "execute_result"
    }
   ],
   "source": [
    "oned_arr = np.array([\n",
    "    1,3,9,10\n",
    "])\n",
    "\n",
    "# returns index value elements\n",
    "oned_arr[1] \n",
    "\n",
    "#returns value between index 2 to last one\n",
    "oned_arr[2:] \n",
    "\n",
    "twod_arr = np.array(\n",
    "    [\n",
    "        [1, 13, 5, 7], \n",
    "        [19, 11, 13, 15],\n",
    "        [12, 4, 6, 8]\n",
    "    ]\n",
    ")\n",
    "\n",
    "#returns row wise index value for n dimensions\n",
    "# twod_arr[1,0]\n",
    "\n",
    "#returns dimensions of array\n",
    "# twod_arr.ndim\n",
    "\n",
    "#replacing value in 2d array\n",
    "# twod_arr[1,2] = 44\n",
    "\n",
    "#returns slicing from 2nd index\n",
    "# twod_arr[2:]\n",
    "\n",
    "threed_arr = np.array(\n",
    "    [\n",
    "        [\n",
    "            [1, 2, 3, 4], \n",
    "            [5, 6, 7, 8], \n",
    "            [9, 10, 11, 12]\n",
    "        ],      \n",
    "        [\n",
    "            [13, 14, 15, 16], \n",
    "            [17, 18, 19, 20], \n",
    "            [21, 22, 23, 24]\n",
    "        ]\n",
    "    ]\n",
    ")\n",
    "\n",
    "#returns 1st element of 1st index of 3d array\n",
    "# threed_arr[1,1,0]\n",
    "\n",
    "#returns slicing\n",
    "# threed_arr[1:]\n",
    "\n",
    "#returns shape\n",
    "# threed_arr.shape\n",
    "\n",
    "#slicing sub array\n",
    "threed_arr[1:]"
   ]
  },
  {
   "cell_type": "markdown",
   "id": "34f6634a-9eee-48b2-8fdc-5719f1623857",
   "metadata": {},
   "source": [
    "# RESHAPE AND TRANSPOSE"
   ]
  },
  {
   "cell_type": "code",
   "execution_count": 23,
   "id": "638a2269-2048-443b-b714-5cb30112ff38",
   "metadata": {},
   "outputs": [
    {
     "name": "stdout",
     "output_type": "stream",
     "text": [
      "2D Reshaped:  [[ 1  3]\n",
      " [ 9 10]]\n",
      "2D Transpose Arr:  [[ 1  9]\n",
      " [ 3 10]]\n"
     ]
    }
   ],
   "source": [
    "#reshaping 1d to 2d array with 4 rows and 1 column note: all values should be matched by multiplication of arr (rows* cols)\n",
    "# twod_arr_reshaped = np.reshape(oned_arr, (4,1)) \n",
    "twod_arr_reshaped = np.reshape(oned_arr, (2,2)) \n",
    "print(\"2D Reshaped: \",twod_arr_reshaped)\n",
    "\n",
    "#flatten 2d and 3d array to 1d array using -1 \n",
    "oned_arr_reshape = np.reshape(twod_arr, -1)\n",
    "# oned_arr_reshape = np.reshape(threed_arr, -1)\n",
    "# oned_arr_reshape\n",
    "\n",
    "#transpose method opr\n",
    "transposed_arr = np.transpose(twod_arr_reshaped)\n",
    "print(\"2D Transpose Arr: \",transposed_arr)"
   ]
  },
  {
   "cell_type": "markdown",
   "id": "2ebbbeaa-6b46-465b-b21f-d43343473ed4",
   "metadata": {},
   "source": [
    "# NUMERICAL OPERATIONS"
   ]
  },
  {
   "cell_type": "code",
   "execution_count": 21,
   "id": "57f1cc03-07bb-45c4-9ffb-94111ce7f281",
   "metadata": {},
   "outputs": [
    {
     "data": {
      "text/plain": [
       "array([1, 0, 5, 0])"
      ]
     },
     "execution_count": 21,
     "metadata": {},
     "output_type": "execute_result"
    }
   ],
   "source": [
    "#sum, subtract, multi, mod opr\n",
    "arr1= np.array([1,4,5,6])\n",
    "arr2= np.array([2,4,10,2])\n",
    "\n",
    "# sum1d_arr = np.add(arr1,arr2)\n",
    "\n",
    "# diff1d_arr = np.subtract(arr1,arr2)\n",
    "\n",
    "# multi1d_arr = np.multiply(arr1, arr2)\n",
    "\n",
    "# div1d_arr = np.divide(arr1, arr2)\n",
    "\n",
    "# pow1d_arr = np.power(arr1, arr2)\n",
    "\n",
    "mod1d_arr = np.mod(arr1, arr2)\n",
    "\n",
    "# sum1d_arr\n",
    "# diff1d_arr\n",
    "# multi1d_arr\n",
    "# pow1d_arr\n",
    "mod1d_arr"
   ]
  },
  {
   "cell_type": "markdown",
   "id": "68266d38-352f-4336-9fd1-a3f38b13a22e",
   "metadata": {},
   "source": [
    "# COMPARISON OPERATIONS"
   ]
  },
  {
   "cell_type": "code",
   "execution_count": 29,
   "id": "6a9c3625-b43f-4b02-bfbc-83c8461d9ee0",
   "metadata": {},
   "outputs": [
    {
     "name": "stdout",
     "output_type": "stream",
     "text": [
      "Arr 1: [1 4 5 6]\n",
      "Arr 2: [ 2  4 10  2]\n",
      "Less Than [ True False  True False]\n",
      "Greater Than [False False False  True]\n",
      "Equal To [False  True False False]\n",
      "Greater Than Equal To [False  True False  True]\n",
      "Less Than Equal To [ True  True  True False]\n",
      "Not Equal To [ True False  True  True]\n"
     ]
    }
   ],
   "source": [
    "#comparison relation operations\n",
    "print(\"Arr 1:\",arr1) \n",
    "print(\"Arr 2:\",arr2) \n",
    "\n",
    "# res = arr1 < arr2\n",
    "res = np.less(arr1, arr2)\n",
    "print(\"Less Than\",res)\n",
    "\n",
    "# res = arr1 > arr2\n",
    "res = np.greater(arr1, arr2)\n",
    "print(\"Greater Than\",res)\n",
    "\n",
    "# res = arr1 == arr2\n",
    "res = np.equal(arr1, arr2)\n",
    "print(\"Equal To\",res)\n",
    "\n",
    "# res = arr1 >= arr2\n",
    "res = np.greater_equal(arr1, arr2)\n",
    "print(\"Greater Than Equal To\",res)\n",
    "\n",
    "# res = arr1 <= arr2\n",
    "res = np.less_equal(arr1, arr2)\n",
    "print(\"Less Than Equal To\",res)\n",
    "\n",
    "# res = arr1 != arr2\n",
    "res = np.not_equal(arr1, arr2)\n",
    "print(\"Not Equal To\",res)"
   ]
  },
  {
   "cell_type": "markdown",
   "id": "b84acf3a-9b87-4699-972b-7e76434b32df",
   "metadata": {},
   "source": [
    "# MEAN AND MEDIAN OPERATIONS WITH AXIS"
   ]
  },
  {
   "cell_type": "code",
   "execution_count": 70,
   "id": "98486c38-944d-4f96-9e06-f86aff888fc8",
   "metadata": {},
   "outputs": [
    {
     "name": "stdout",
     "output_type": "stream",
     "text": [
      "Arr 1: [1 4 5 6]\n",
      "Mean: 4.0\n",
      "Median: 4.5\n",
      "Min: 1\n",
      "Max: 6\n",
      "25 percentile marks:  57.0\n"
     ]
    }
   ],
   "source": [
    "#mean median min max operations\n",
    "print(\"Arr 1:\",arr1)\n",
    "\n",
    "#returns sum of all elements / no of elements = mean\n",
    "mean_val = np.mean(arr1)\n",
    "print(\"Mean:\",mean_val)\n",
    "\n",
    "#returns middle value\n",
    "median_val = np.median(arr1)\n",
    "print(\"Median:\",median_val)\n",
    "\n",
    "#returns min, max\n",
    "print(\"Min:\",np.min(arr1))\n",
    "print(\"Max:\",np.max(arr1))\n",
    "\n",
    "stud_marks = [50, 90, 80, 85, 57]\n",
    "print(\"25 percentile marks: \", np.percentile(stud_marks,25))\n"
   ]
  },
  {
   "cell_type": "code",
   "execution_count": 38,
   "id": "f6bafe22-87f8-4c54-905f-2dd646d8e497",
   "metadata": {},
   "outputs": [
    {
     "name": "stdout",
     "output_type": "stream",
     "text": [
      "Median along horizontal axis : [ 6. 12. 16.]\n",
      "Median along vertical axis: [14. 14. 12.]\n",
      "Median of entire array: 14.0\n",
      "Mean along horizontal axis : [ 7.33333333 13.33333333 16.        ]\n",
      "Mean along vertical axis: [11.33333333 13.33333333 12.        ]\n",
      "Mean of entire array: 12.222222222222221\n"
     ]
    }
   ],
   "source": [
    "# create a 2D array\n",
    "array1 = np.array([[2, 14, 6], \n",
    "                   [18, 10, 12], \n",
    "                   [14, 16, 18]])\n",
    "\n",
    "# median along horizontal axis e.g. [2, 6,14] row wise workds from left to right approach\n",
    "result1 = np.median(array1, axis=1)\n",
    "print(\"Median along horizontal axis :\", result1)\n",
    "\n",
    "# median along vertical axis e.g. [2,14,18] column wise works from top to bottom approach\n",
    "result2 = np.median(array1, axis=0)\n",
    "print(\"Median along vertical axis:\", result2)\n",
    "\n",
    "# compute median of entire array\n",
    "result3 = np.median(array1)\n",
    "print(\"Median of entire array:\", result3)\n",
    "\n",
    "# mean along horizontal axis e.g. [2, 6,14] row wise workds from left to right approach\n",
    "result1 = np.mean(array1, axis=1)\n",
    "print(\"Mean along horizontal axis :\", result1)\n",
    "\n",
    "# mean along vertical axis e.g. [2,14,18] column wise works from top to bottom approach\n",
    "result2 = np.mean(array1, axis=0)\n",
    "print(\"Mean along vertical axis:\", result2)\n",
    "\n",
    "# compute mean of entire array\n",
    "result3 = np.mean(array1)\n",
    "print(\"Mean of entire array:\", result3)\n"
   ]
  },
  {
   "cell_type": "markdown",
   "id": "6d149c33-29c1-47f1-a968-2bc5bb078d40",
   "metadata": {},
   "source": [
    "# STRING OPERATIONS"
   ]
  },
  {
   "cell_type": "code",
   "execution_count": 55,
   "id": "54bcfd8f-af80-4581-8249-04d1e896b7db",
   "metadata": {},
   "outputs": [
    {
     "name": "stdout",
     "output_type": "stream",
     "text": [
      "Concat Res:  ['hero batman' 'villian joker']\n",
      "Multi Res: ['hero hero ' 'villian villian ']\n",
      "Capitalise Res: ['Hero ' 'Villian ']\n",
      "Upper Res: ['HERO ' 'VILLIAN ']\n",
      "Lower Res: ['hero ' 'villian ']\n",
      "Join Res: ['h-e-r-o- ' 'v-i-l-l-i-a-n- ']\n"
     ]
    }
   ],
   "source": [
    "# add()\tconcatenates two strings\n",
    "# multiply()\trepeats a string for a specified number of times\n",
    "# capitalize()\tcapitalizes the first letter of a string\n",
    "# lower()\tconverts all uppercase characters in a string to lowercase\n",
    "# upper()\tconverts all lowercase characters in a string to uppercase\n",
    "# join()\tjoins a sequence of strings\n",
    "# equal()\tchecks if two strings are equal or not\n",
    "\n",
    "str_arr1 = np.array(['hero ','villian '])\n",
    "str_arr2 = np.array(['batman', 'joker'])\n",
    "\n",
    "print(\"Concat Res: \", np.char.add(str_arr1, str_arr2))\n",
    "\n",
    "print(\"Multi Res:\", np.char.multiply(str_arr1, 2))\n",
    "\n",
    "print(\"Capitalise Res:\", np.char.capitalize(str_arr1))\n",
    "\n",
    "print(\"Upper Res:\", np.char.upper(str_arr1))\n",
    "\n",
    "print(\"Lower Res:\", np.char.lower(str_arr1))\n",
    "\n",
    "print(\"Join Res:\", np.char.join('-',str_arr1))"
   ]
  },
  {
   "cell_type": "markdown",
   "id": "24dfb8c4-3b5f-49c3-af61-3fe693927267",
   "metadata": {},
   "source": [
    "# MATRIX OPERATIONS IN ARRAY"
   ]
  },
  {
   "cell_type": "code",
   "execution_count": 65,
   "id": "44546d91-96b7-468f-b17f-6feb8517ba52",
   "metadata": {},
   "outputs": [
    {
     "name": "stdout",
     "output_type": "stream",
     "text": [
      "[[ 44 112]\n",
      " [ 78 336]]\n",
      "Matrix: [[ 1  5  6]\n",
      " [ 2  4  9]\n",
      " [10 21 10]]\n",
      "Inverse of matrix: [[-0.69953052  0.35680751  0.09859155]\n",
      " [ 0.3286385  -0.23474178  0.01408451]\n",
      " [ 0.00938967  0.13615023 -0.02816901]]\n",
      "Determinant of matrix: 213.00000000000009\n",
      "Flatten of matrix: [ 1  5  6  2  4  9 10 21 10]\n"
     ]
    }
   ],
   "source": [
    "# create two matrices\n",
    "matrix1 = np.array([[2, 10], \n",
    "             \t\t[15, 12]])\n",
    "             \n",
    "matrix2 = np.array([[2, 16], \n",
    "                    [4, 8]])\n",
    "\n",
    "# calculate the dot product of the two matrices\n",
    "result = np.dot(matrix1, matrix2)\n",
    "print(result)\n",
    "\n",
    "# calculate the multiply product of the two matrices\n",
    "result = np.multiply(matrix1, matrix2)\n",
    "print(result)\n",
    "\n",
    "mat_3 = np.array(\n",
    "    [\n",
    "        [1, 5, 6],\n",
    "        [2,4,9],\n",
    "        [10,21,10]\n",
    "    ]\n",
    ")\n",
    "\n",
    "print(\"Matrix:\", mat_3)\n",
    "print(\"Inverse of matrix:\", np.linalg.inv(mat_3))\n",
    "# det(A) = ad - bc\n",
    "print(\"Determinant of matrix:\", np.linalg.det(mat_3))\n",
    "# converts 3d,2d into 1d array\n",
    "print(\"Flatten of matrix:\", mat_3.flatten())"
   ]
  },
  {
   "cell_type": "markdown",
   "id": "46e0298e-1880-4bbd-b976-b3f7fbe65fda",
   "metadata": {},
   "source": [
    "# SET OPERATIONS"
   ]
  },
  {
   "cell_type": "code",
   "execution_count": 69,
   "id": "a182a014-b7ca-4850-8acc-9ec37f1b535c",
   "metadata": {},
   "outputs": [
    {
     "name": "stdout",
     "output_type": "stream",
     "text": [
      "Union:  [0 1 2 3 5]\n",
      "Intersection:  [3]\n",
      "Set Diff:  [1 5]\n",
      "Set Symmetric Diff:  [0 1 2 5]\n"
     ]
    }
   ],
   "source": [
    "A = np.array([1, 3, 5])\n",
    "B = np.array([0, 2, 3])\n",
    "\n",
    "# union of two arrays\n",
    "result = np.union1d(A, B)\n",
    "print(\"Union: \",result)\n",
    "print(\"Intersection: \",np.intersect1d(A,B))\n",
    "print(\"Set Diff: \",np.setdiff1d(A,B))\n",
    "print(\"Set Symmetric Diff: \",np.setxor1d(A,B))\n",
    "print(\"Unique: \",np.unique(A))"
   ]
  },
  {
   "cell_type": "markdown",
   "id": "a9f6874c-fa75-4a3e-b6f9-c5a700054d30",
   "metadata": {},
   "source": [
    "# BOOLEAN INDEXING"
   ]
  },
  {
   "cell_type": "code",
   "execution_count": 72,
   "id": "82c02858-f765-448b-bad4-faa314315739",
   "metadata": {},
   "outputs": [
    {
     "name": "stdout",
     "output_type": "stream",
     "text": [
      "[14 19 21 25 29 35]\n"
     ]
    }
   ],
   "source": [
    "res1 = np.array([[1, 7, 9], \n",
    "                    [14, 19, 21], \n",
    "                    [25, 29, 35]])\n",
    "\n",
    "# create a boolean mask based on the condition \n",
    "# that elements are greater than 9\n",
    "boolean_mask = res1 > 9\n",
    "\n",
    "# select only the elements that satisfy the condition\n",
    "result = res1[boolean_mask]\n",
    "\n",
    "print(result)"
   ]
  }
 ],
 "metadata": {
  "kernelspec": {
   "display_name": "Python 3 (ipykernel)",
   "language": "python",
   "name": "python3"
  },
  "language_info": {
   "codemirror_mode": {
    "name": "ipython",
    "version": 3
   },
   "file_extension": ".py",
   "mimetype": "text/x-python",
   "name": "python",
   "nbconvert_exporter": "python",
   "pygments_lexer": "ipython3",
   "version": "3.12.7"
  }
 },
 "nbformat": 4,
 "nbformat_minor": 5
}
