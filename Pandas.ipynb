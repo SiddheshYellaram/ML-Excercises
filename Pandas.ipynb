{
 "cells": [
  {
   "cell_type": "markdown",
   "id": "c56bcc31-825f-4402-b1b2-941ff6a2a1b2",
   "metadata": {},
   "source": [
    "# Basic Operations"
   ]
  },
  {
   "cell_type": "code",
   "execution_count": 1,
   "id": "7a678fd1-cf31-4881-856d-9771c372fad5",
   "metadata": {},
   "outputs": [
    {
     "name": "stdout",
     "output_type": "stream",
     "text": [
      "DataFrame: \n",
      "       Name  Age  Salary\n",
      "0  Desmond   25   50000\n",
      "1     Anna   30   60000\n",
      "2  Charlie   35   70000\n",
      "Series: \n",
      " 0    23\n",
      "1    44\n",
      "2    55\n",
      "dtype: int64\n"
     ]
    }
   ],
   "source": [
    "import numpy as np\n",
    "import pandas as pd\n",
    "\n",
    "data = {\n",
    "    'Name': ['Desmond', 'Anna', 'Charlie'], \n",
    "    'Age': [25, 30, 35], \n",
    "    'Salary': [50000, 60000, 70000]\n",
    "}\n",
    "\n",
    "# A DataFrame is like a table with multiple columns.\n",
    "# Think of it as a full Excel spreadsheet with rows and columns.\n",
    "df = pd.DataFrame(data)\n",
    "print(\"DataFrame: \\n\",df)\n",
    "\n",
    "# A Series is a single column of data with labels (index).\n",
    "# Think of it as a single-column Excel sheet or a list with names.\n",
    "ser = pd.Series([23,44,55])\n",
    "print(\"Series: \\n\",ser)"
   ]
  },
  {
   "cell_type": "markdown",
   "id": "56252e88-51cf-4408-b8cf-afc81dd97d56",
   "metadata": {},
   "source": [
    "# Add Update Remove Operations for column and row using dataframe"
   ]
  },
  {
   "cell_type": "code",
   "execution_count": 2,
   "id": "e6c9750e-8974-4054-ad54-c8504f406427",
   "metadata": {},
   "outputs": [
    {
     "name": "stdout",
     "output_type": "stream",
     "text": [
      "New Dataframe: \n",
      "       Name  Age  Salary         City Age Category  Age in 10 years\n",
      "0  Desmond   25   50000       Mumbai        Adult               35\n",
      "1     Anna   30   60000        Vashi        Adult               40\n",
      "2  Charlie   35   70000  Navi Mumbai        Adult               45\n"
     ]
    }
   ],
   "source": [
    "#writing to csv and making index as false because it will not take index values in csv file\n",
    "df.to_csv('emp_desc.csv', index=False)\n",
    "\n",
    "#read data from csv\n",
    "df = pd.read_csv('emp_desc.csv')\n",
    "\n",
    "#add new value in df using loc[new_index, 'column_name'] = value and iloc\n",
    "# df.loc[3, 'Name'] = \"Triss\"\n",
    "# df.loc[3, \"Age\"] = 25\n",
    "# df.loc[3, \"Salary\"] = 50000\n",
    "    \n",
    "    #or\n",
    "\n",
    "# df.loc[4] = [\"Ethan\", 44, 60000]\n",
    "\n",
    "#adding new column applies to all\n",
    "df['City'] = 'Mumbai'\n",
    "\n",
    "#adding new location for age greater than 30\n",
    "df.loc[df[\"Age\"] > 30, \"City\"] = \"Navi Mumbai\"\n",
    "\n",
    "#updating multiple columns\n",
    "# df[[\"Age\", \"City\"]] = [[20, \"Thane\"], [25, \"Airoli\"], [33, \"Amsterdam\"], [55, \"NYC\"], [59, \"Denver\"]]\n",
    "\n",
    "#update single row\n",
    "# df.loc[1] = [\"Yeneffer\", 21, 39000, \"Mumbai\", 0, \"NA\"]\n",
    "\n",
    "#using apply function to add new column\n",
    "df['Age Category'] = df[\"Age\"].apply(lambda x : \"Young\" if x < 25 else \"Adult\")\n",
    "\n",
    "#update specific row column value\n",
    "df.at[1, 'City'] = \"Vashi\"\n",
    "\n",
    "df['Age in 10 years'] = df['Age'] + 10\n",
    "\n",
    "# remove columns data\n",
    "# use of inplace If True: the removing is done on the current DataFrame. If False: returns a copy where the removing is done.\n",
    "# df.drop(columns=['City'], inplace=True)\n",
    "\n",
    "# remove single row\n",
    "# df.drop(index=1, inplace=True)\n",
    "\n",
    "# Keeps only rows where Age > 30\n",
    "# df = df[df['Age'] > 30]\n",
    "\n",
    "print('New Dataframe: \\n',df)\n",
    "df.to_csv('emp_desc.csv', index=False)"
   ]
  },
  {
   "cell_type": "markdown",
   "id": "73bcc59b-d0df-4d1f-aace-329a6a8f7a3e",
   "metadata": {},
   "source": [
    "# Inbuilt Operations"
   ]
  },
  {
   "cell_type": "code",
   "execution_count": 3,
   "id": "b8e7bc57-63d4-4c73-b370-f763fbb28050",
   "metadata": {},
   "outputs": [
    {
     "data": {
      "text/plain": [
       "Index(['Name', 'Age', 'Salary', 'City', 'Age Category', 'Age in 10 years'], dtype='object')"
      ]
     },
     "execution_count": 3,
     "metadata": {},
     "output_type": "execute_result"
    }
   ],
   "source": [
    "# First 5 rows default if not specified\n",
    "df.head(2)\n",
    "\n",
    "# Last 5 rows default if not specified\n",
    "df.tail(2)\n",
    "\n",
    "#returns dimensions of dataframe\n",
    "df.shape\n",
    "\n",
    "# returns data types\n",
    "df.dtypes\n",
    "\n",
    "# returns column name\n",
    "df.columns"
   ]
  },
  {
   "cell_type": "markdown",
   "id": "ff02e2b1-d71e-4d82-b80f-5b0b62bcc611",
   "metadata": {},
   "source": [
    "# Statistical Operations"
   ]
  },
  {
   "cell_type": "code",
   "execution_count": 4,
   "id": "80e9c889-97fc-4f69-98d0-3fee28450df5",
   "metadata": {},
   "outputs": [
    {
     "data": {
      "text/plain": [
       "35"
      ]
     },
     "execution_count": 4,
     "metadata": {},
     "output_type": "execute_result"
    }
   ],
   "source": [
    "#describe provide mean, median, mode, 25%, 50%, 75% of numerical data\n",
    "df.describe()\n",
    "\n",
    "#Count returns non null value\n",
    "df.count()\n",
    "\n",
    "# Average age\n",
    "df['Age'].mean()\n",
    "\n",
    "# Median age\n",
    "df['Age'].median()\n",
    "\n",
    "# Minimum age\n",
    "df['Age'].min() \n",
    "\n",
    "# Maximum age\n",
    "df['Age'].max()"
   ]
  },
  {
   "cell_type": "markdown",
   "id": "278032f4-3a95-4ec9-a87b-483b25a4b65e",
   "metadata": {},
   "source": [
    "# Sorting and Filtering"
   ]
  },
  {
   "cell_type": "code",
   "execution_count": 5,
   "id": "8176c835-1d8b-4701-b0f1-ce682e31c224",
   "metadata": {},
   "outputs": [
    {
     "data": {
      "text/html": [
       "<div>\n",
       "<style scoped>\n",
       "    .dataframe tbody tr th:only-of-type {\n",
       "        vertical-align: middle;\n",
       "    }\n",
       "\n",
       "    .dataframe tbody tr th {\n",
       "        vertical-align: top;\n",
       "    }\n",
       "\n",
       "    .dataframe thead th {\n",
       "        text-align: right;\n",
       "    }\n",
       "</style>\n",
       "<table border=\"1\" class=\"dataframe\">\n",
       "  <thead>\n",
       "    <tr style=\"text-align: right;\">\n",
       "      <th></th>\n",
       "      <th>Name</th>\n",
       "      <th>Age</th>\n",
       "      <th>Salary</th>\n",
       "      <th>City</th>\n",
       "      <th>Age Category</th>\n",
       "      <th>Age in 10 years</th>\n",
       "    </tr>\n",
       "  </thead>\n",
       "  <tbody>\n",
       "    <tr>\n",
       "      <th>2</th>\n",
       "      <td>Charlie</td>\n",
       "      <td>35</td>\n",
       "      <td>70000</td>\n",
       "      <td>Navi Mumbai</td>\n",
       "      <td>Adult</td>\n",
       "      <td>45</td>\n",
       "    </tr>\n",
       "  </tbody>\n",
       "</table>\n",
       "</div>"
      ],
      "text/plain": [
       "      Name  Age  Salary         City Age Category  Age in 10 years\n",
       "2  Charlie   35   70000  Navi Mumbai        Adult               45"
      ]
     },
     "execution_count": 5,
     "metadata": {},
     "output_type": "execute_result"
    }
   ],
   "source": [
    "#sort values by salary\n",
    "df.sort_values(by='Salary')\n",
    "\n",
    "#filter rows by condition\n",
    "df[df['Age'] > 30]"
   ]
  },
  {
   "cell_type": "markdown",
   "id": "1ea612b4-d4e3-4bb5-92ce-34dcbf3687db",
   "metadata": {},
   "source": [
    "# Series Operations"
   ]
  },
  {
   "cell_type": "code",
   "execution_count": 6,
   "id": "c73e0367-e1bb-4681-900f-c930e8ecfae7",
   "metadata": {},
   "outputs": [
    {
     "name": "stderr",
     "output_type": "stream",
     "text": [
      "C:\\Users\\Admin\\AppData\\Local\\Temp\\ipykernel_18480\\1160529839.py:20: FutureWarning: Series.__setitem__ treating keys as positions is deprecated. In a future version, integer keys will always be treated as labels (consistent with DataFrame behavior). To set a value by position, use `ser.iloc[pos] = value`\n",
      "  s[0] = 100\n"
     ]
    },
    {
     "data": {
      "text/plain": [
       "90"
      ]
     },
     "execution_count": 6,
     "metadata": {},
     "output_type": "execute_result"
    }
   ],
   "source": [
    "s = pd.Series([10, 20, 30, 40], index=['Triss', 'Yen', 'Charlie', 'Ethan'])\n",
    "\n",
    "#find by index\n",
    "# s[0]\n",
    "\n",
    "#find by label\n",
    "# s['Yen']\n",
    "\n",
    "#or\n",
    "\n",
    "s.iloc[3]\n",
    "\n",
    "#slicing from 2nd index till last\n",
    "s[2:]\n",
    "\n",
    "#slicing from 0 index till 2nd \n",
    "s[:2]\n",
    "\n",
    "#update\n",
    "s[0] = 100\n",
    "s['Triss'] = 90\n",
    "\n",
    "#drop \n",
    "# s.drop('Triss', inplace=True)\n",
    "\n",
    "#mean\n",
    "s.mean()\n",
    "\n",
    "#min\n",
    "s.min()\n",
    "\n",
    "#max\n",
    "s.max()"
   ]
  },
  {
   "cell_type": "markdown",
   "id": "16545999-4811-49de-836e-955bdc84c24e",
   "metadata": {},
   "source": [
    "# Handling Missing Data"
   ]
  },
  {
   "cell_type": "code",
   "execution_count": 7,
   "id": "6b7870e7-afe7-4286-825f-28bd5fddca74",
   "metadata": {},
   "outputs": [
    {
     "name": "stdout",
     "output_type": "stream",
     "text": [
      "New Data Frame with NA Vals: \n",
      "       Name   Age   Salary\n",
      "0      Sal  25.0  50000.0\n",
      "1      Bob   NaN  60000.0\n",
      "2  Charlie  30.0      NaN\n",
      "New Data Frame: \n",
      "       Name   Age   Salary\n",
      "0      Sal  25.0  50000.0\n",
      "1      Bob  27.5  60000.0\n",
      "2  Charlie  30.0     27.5\n"
     ]
    }
   ],
   "source": [
    "newdf = pd.DataFrame({'Name': ['Sal', 'Bob', 'Charlie'],\n",
    "                   'Age': [25, np.nan, 30],\n",
    "                   'Salary': [50000, 60000, None]})\n",
    "\n",
    "print(\"New Data Frame with NA Vals: \\n\",newdf)\n",
    "\n",
    "# loc gets rows (and/or columns) with particular labels.\n",
    "# iloc gets rows (and/or columns) at integer locations.\n",
    "\n",
    "#drop na records\n",
    "# df.dropna(inplace=True)\n",
    "# df.dropna(axis=1, inplace=True)\n",
    "\n",
    "#Fill NAN values\n",
    "# newdf.fillna(20, inplace=True)\n",
    "\n",
    "# Fill with mean age\n",
    "newdf.fillna(newdf[\"Age\"].mean(), inplace=True)\n",
    "\n",
    "# Fill with median age\n",
    "newdf.fillna(newdf[\"Salary\"].median(), inplace=True)\n",
    "\n",
    "# Forward fill (use previous value)\n",
    "# newdf.fillna(method=\"ffill\", inplace=True) is deprecated using ffill() method \n",
    "# newdf.ffill()\n",
    "\n",
    "# Backward fill (use next value)\n",
    "# newdf.fillna(method=\"bbill\", inplace=True) is deprecated using bfill() method \n",
    "# newdf.bfill()\n",
    "\n",
    "print(\"New Data Frame: \\n\",newdf)"
   ]
  },
  {
   "cell_type": "markdown",
   "id": "d71cbfc6-cfce-4fde-970a-cd8bee59878e",
   "metadata": {},
   "source": [
    "# Group By Operations"
   ]
  },
  {
   "cell_type": "code",
   "execution_count": 15,
   "id": "ae435773-f1fb-42dc-adaf-a928a6535901",
   "metadata": {},
   "outputs": [
    {
     "name": "stdout",
     "output_type": "stream",
     "text": [
      "Department\n",
      "AI         75000.0\n",
      "Finance    80000.0\n",
      "HR         50000.0\n",
      "IT         70000.0\n",
      "Test       60000.0\n",
      "Name: Salary, dtype: float64\n"
     ]
    },
    {
     "data": {
      "text/html": [
       "<div>\n",
       "<style scoped>\n",
       "    .dataframe tbody tr th:only-of-type {\n",
       "        vertical-align: middle;\n",
       "    }\n",
       "\n",
       "    .dataframe tbody tr th {\n",
       "        vertical-align: top;\n",
       "    }\n",
       "\n",
       "    .dataframe thead th {\n",
       "        text-align: right;\n",
       "    }\n",
       "</style>\n",
       "<table border=\"1\" class=\"dataframe\">\n",
       "  <thead>\n",
       "    <tr style=\"text-align: right;\">\n",
       "      <th></th>\n",
       "      <th>Department</th>\n",
       "      <th>Salary</th>\n",
       "    </tr>\n",
       "  </thead>\n",
       "  <tbody>\n",
       "    <tr>\n",
       "      <th>1</th>\n",
       "      <td>IT</td>\n",
       "      <td>70000</td>\n",
       "    </tr>\n",
       "    <tr>\n",
       "      <th>3</th>\n",
       "      <td>Finance</td>\n",
       "      <td>80000</td>\n",
       "    </tr>\n",
       "    <tr>\n",
       "      <th>4</th>\n",
       "      <td>AI</td>\n",
       "      <td>75000</td>\n",
       "    </tr>\n",
       "  </tbody>\n",
       "</table>\n",
       "</div>"
      ],
      "text/plain": [
       "  Department  Salary\n",
       "1         IT   70000\n",
       "3    Finance   80000\n",
       "4         AI   75000"
      ]
     },
     "execution_count": 15,
     "metadata": {},
     "output_type": "execute_result"
    }
   ],
   "source": [
    "ddf = pd.DataFrame({'Department': ['HR', 'IT', 'Test', 'Finance', 'AI'],\n",
    "                   'Salary': [50000, 70000, 60000, 80000, 75000]})\n",
    "\n",
    "#using group by apply aggregate operations\n",
    "new_ddf = ddf.groupby('Department')['Salary'].mean()\n",
    "print(new_ddf)\n",
    "\n",
    "#applying lambda func\n",
    "ddf_group = ddf.groupby('Department')['Salary'].apply(lambda x: x + 5000)\n",
    "ddf_group\n",
    "\n",
    "#applying filters\n",
    "ddf_group = ddf.groupby('Department').filter(lambda x: x['Salary'].mean() > 60000)\n",
    "ddf_group"
   ]
  },
  {
   "cell_type": "markdown",
   "id": "aeada096-6f63-431e-8391-1c57f7cf5bae",
   "metadata": {},
   "source": [
    "# Sort And Filter Operations"
   ]
  },
  {
   "cell_type": "code",
   "execution_count": 20,
   "id": "4cfd8aa1-0519-4335-bad5-3c879257c3a6",
   "metadata": {},
   "outputs": [
    {
     "data": {
      "text/html": [
       "<div>\n",
       "<style scoped>\n",
       "    .dataframe tbody tr th:only-of-type {\n",
       "        vertical-align: middle;\n",
       "    }\n",
       "\n",
       "    .dataframe tbody tr th {\n",
       "        vertical-align: top;\n",
       "    }\n",
       "\n",
       "    .dataframe thead th {\n",
       "        text-align: right;\n",
       "    }\n",
       "</style>\n",
       "<table border=\"1\" class=\"dataframe\">\n",
       "  <thead>\n",
       "    <tr style=\"text-align: right;\">\n",
       "      <th></th>\n",
       "      <th>Department</th>\n",
       "      <th>Salary</th>\n",
       "    </tr>\n",
       "  </thead>\n",
       "  <tbody>\n",
       "    <tr>\n",
       "      <th>1</th>\n",
       "      <td>IT</td>\n",
       "      <td>70000</td>\n",
       "    </tr>\n",
       "    <tr>\n",
       "      <th>3</th>\n",
       "      <td>Finance</td>\n",
       "      <td>80000</td>\n",
       "    </tr>\n",
       "    <tr>\n",
       "      <th>4</th>\n",
       "      <td>AI</td>\n",
       "      <td>75000</td>\n",
       "    </tr>\n",
       "  </tbody>\n",
       "</table>\n",
       "</div>"
      ],
      "text/plain": [
       "  Department  Salary\n",
       "1         IT   70000\n",
       "3    Finance   80000\n",
       "4         AI   75000"
      ]
     },
     "execution_count": 20,
     "metadata": {},
     "output_type": "execute_result"
    }
   ],
   "source": [
    "#sort values by column\n",
    "df_sorted = ddf.sort_values(by='Salary', ascending=False)\n",
    "df_sorted\n",
    "\n",
    "#sort values by multiple column\n",
    "df_sorted = ddf.sort_values(by=[\"Department\",\"Salary\"], ascending = [True, False])\n",
    "df_sorted\n",
    "\n",
    "df_filtered = ddf[ddf['Salary'] > 60000]\n",
    "df_filtered"
   ]
  },
  {
   "cell_type": "markdown",
   "id": "d48ed204-516c-4968-a687-ebb7e7334c37",
   "metadata": {},
   "source": [
    "# Date Time Operations"
   ]
  },
  {
   "cell_type": "code",
   "execution_count": 35,
   "id": "408398ca-50aa-42c7-934c-03b6f8a0c9a5",
   "metadata": {},
   "outputs": [
    {
     "data": {
      "text/html": [
       "<div>\n",
       "<style scoped>\n",
       "    .dataframe tbody tr th:only-of-type {\n",
       "        vertical-align: middle;\n",
       "    }\n",
       "\n",
       "    .dataframe tbody tr th {\n",
       "        vertical-align: top;\n",
       "    }\n",
       "\n",
       "    .dataframe thead th {\n",
       "        text-align: right;\n",
       "    }\n",
       "</style>\n",
       "<table border=\"1\" class=\"dataframe\">\n",
       "  <thead>\n",
       "    <tr style=\"text-align: right;\">\n",
       "      <th></th>\n",
       "      <th>Name</th>\n",
       "      <th>Age</th>\n",
       "      <th>Salary</th>\n",
       "      <th>City</th>\n",
       "      <th>Age Category</th>\n",
       "      <th>Age in 10 years</th>\n",
       "      <th>Join Date</th>\n",
       "      <th>Year</th>\n",
       "      <th>Month</th>\n",
       "    </tr>\n",
       "  </thead>\n",
       "  <tbody>\n",
       "    <tr>\n",
       "      <th>0</th>\n",
       "      <td>Desmond</td>\n",
       "      <td>25</td>\n",
       "      <td>50000</td>\n",
       "      <td>Mumbai</td>\n",
       "      <td>Adult</td>\n",
       "      <td>35</td>\n",
       "      <td>2025-04-01</td>\n",
       "      <td>2025</td>\n",
       "      <td>1</td>\n",
       "    </tr>\n",
       "    <tr>\n",
       "      <th>1</th>\n",
       "      <td>Anna</td>\n",
       "      <td>30</td>\n",
       "      <td>60000</td>\n",
       "      <td>Vashi</td>\n",
       "      <td>Adult</td>\n",
       "      <td>40</td>\n",
       "      <td>2025-04-29</td>\n",
       "      <td>2025</td>\n",
       "      <td>2</td>\n",
       "    </tr>\n",
       "    <tr>\n",
       "      <th>2</th>\n",
       "      <td>Charlie</td>\n",
       "      <td>35</td>\n",
       "      <td>70000</td>\n",
       "      <td>Navi Mumbai</td>\n",
       "      <td>Adult</td>\n",
       "      <td>45</td>\n",
       "      <td>2025-05-30</td>\n",
       "      <td>2025</td>\n",
       "      <td>3</td>\n",
       "    </tr>\n",
       "  </tbody>\n",
       "</table>\n",
       "</div>"
      ],
      "text/plain": [
       "      Name  Age  Salary         City Age Category  Age in 10 years  Join Date  \\\n",
       "0  Desmond   25   50000       Mumbai        Adult               35 2025-04-01   \n",
       "1     Anna   30   60000        Vashi        Adult               40 2025-04-29   \n",
       "2  Charlie   35   70000  Navi Mumbai        Adult               45 2025-05-30   \n",
       "\n",
       "   Year  Month  \n",
       "0  2025      1  \n",
       "1  2025      2  \n",
       "2  2025      3  "
      ]
     },
     "execution_count": 35,
     "metadata": {},
     "output_type": "execute_result"
    }
   ],
   "source": [
    "#date range changes periods = no of months, freq = frequent ME -> Monthly , W -> Weekly\n",
    "# print(len(df))\n",
    "df[\"Join Date\"] = pd.date_range(start='2025-01-01', periods = len(df), freq = \"ME\")\n",
    "# df[\"Join Date\"] = pd.date_range(start='2025-01-01', periods = len(df), freq = \"W\")\n",
    "df\n",
    "\n",
    "#conversion to datetime\n",
    "# df['Join Date'] = pd.to_datetime(df['Join Date'])\n",
    "# df\n",
    "\n",
    "#extract values year and month\n",
    "df['Year'] = df['Join Date'].dt.year\n",
    "df['Month'] = df['Join Date'].dt.month\n",
    "df\n",
    "\n",
    "#add 60 days\n",
    "df[\"Join Date\"] = df['Join Date'] + pd.DateOffset(days=60)\n",
    "df"
   ]
  },
  {
   "cell_type": "markdown",
   "id": "1b7d17f1-c7dd-4258-a8b7-cc0bcacd750c",
   "metadata": {},
   "source": [
    "# Merge Operations"
   ]
  },
  {
   "cell_type": "code",
   "execution_count": 44,
   "id": "c6282dc9-9f3c-4b02-a563-c2f878aa4e1d",
   "metadata": {},
   "outputs": [
    {
     "data": {
      "text/html": [
       "<div>\n",
       "<style scoped>\n",
       "    .dataframe tbody tr th:only-of-type {\n",
       "        vertical-align: middle;\n",
       "    }\n",
       "\n",
       "    .dataframe tbody tr th {\n",
       "        vertical-align: top;\n",
       "    }\n",
       "\n",
       "    .dataframe thead th {\n",
       "        text-align: right;\n",
       "    }\n",
       "</style>\n",
       "<table border=\"1\" class=\"dataframe\">\n",
       "  <thead>\n",
       "    <tr style=\"text-align: right;\">\n",
       "      <th></th>\n",
       "      <th>ID</th>\n",
       "      <th>Name</th>\n",
       "      <th>Salary</th>\n",
       "    </tr>\n",
       "  </thead>\n",
       "  <tbody>\n",
       "    <tr>\n",
       "      <th>0</th>\n",
       "      <td>102</td>\n",
       "      <td>NaN</td>\n",
       "      <td>55000</td>\n",
       "    </tr>\n",
       "    <tr>\n",
       "      <th>1</th>\n",
       "      <td>201</td>\n",
       "      <td>Bob</td>\n",
       "      <td>65000</td>\n",
       "    </tr>\n",
       "    <tr>\n",
       "      <th>2</th>\n",
       "      <td>301</td>\n",
       "      <td>Charlie</td>\n",
       "      <td>75000</td>\n",
       "    </tr>\n",
       "  </tbody>\n",
       "</table>\n",
       "</div>"
      ],
      "text/plain": [
       "    ID     Name  Salary\n",
       "0  102      NaN   55000\n",
       "1  201      Bob   65000\n",
       "2  301  Charlie   75000"
      ]
     },
     "execution_count": 44,
     "metadata": {},
     "output_type": "execute_result"
    }
   ],
   "source": [
    "# merge operations\n",
    "df1 = pd.DataFrame({'ID': [101, 201, 301], 'Name': ['Alice', 'Bob', 'Charlie']})\n",
    "#purposely given wrong index id to understand joins func\n",
    "df2 = pd.DataFrame({'ID': [102, 201, 301], 'Salary': [50000, 60000, 70000]})\n",
    "\n",
    "#Inner join\n",
    "df_merged = pd.merge(df1, df2, on = \"ID\", how = \"inner\")\n",
    "df_merged\n",
    "\n",
    "#left join\n",
    "df_merged = pd.merge(df1, df2, on = \"ID\", how = \"left\")\n",
    "df_merged\n",
    "\n",
    "#Right join\n",
    "df_merged = pd.merge(df1, df2, on = \"ID\", how = \"right\")\n",
    "df_merged\n",
    "\n",
    "df_merged['Salary'] = df_merged['Salary'] + 5000\n",
    "df_merged\n",
    "\n",
    "#drop salary\n",
    "#df_merged.drop(columns=['Salary'], inplace=True)"
   ]
  }
 ],
 "metadata": {
  "kernelspec": {
   "display_name": "Python 3 (ipykernel)",
   "language": "python",
   "name": "python3"
  },
  "language_info": {
   "codemirror_mode": {
    "name": "ipython",
    "version": 3
   },
   "file_extension": ".py",
   "mimetype": "text/x-python",
   "name": "python",
   "nbconvert_exporter": "python",
   "pygments_lexer": "ipython3",
   "version": "3.12.7"
  }
 },
 "nbformat": 4,
 "nbformat_minor": 5
}
